{
 "cells": [
  {
   "cell_type": "code",
   "execution_count": 1,
   "metadata": {
    "slideshow": {
     "slide_type": "skip"
    }
   },
   "outputs": [
    {
     "name": "stderr",
     "output_type": "stream",
     "text": [
      "Warning message:\n",
      "\"package 'plyr' was built under R version 3.5.3\"Warning message:\n",
      "\"package 'lattice' was built under R version 3.5.3\"Warning message:\n",
      "\"package 'ggplot2' was built under R version 3.5.2\"Warning message:\n",
      "\"package 'pROC' was built under R version 3.5.3\"Type 'citation(\"pROC\")' for a citation.\n",
      "\n",
      "Attaching package: 'pROC'\n",
      "\n",
      "The following objects are masked from 'package:stats':\n",
      "\n",
      "    cov, smooth, var\n",
      "\n",
      "Warning message:\n",
      "\"package 'glmnet' was built under R version 3.5.3\"Loading required package: Matrix\n",
      "Loading required package: foreach\n",
      "Warning message:\n",
      "\"package 'foreach' was built under R version 3.5.3\"Loaded glmnet 2.0-18\n",
      "\n",
      "\n",
      "Attaching package: 'glmnet'\n",
      "\n",
      "The following object is masked from 'package:pROC':\n",
      "\n",
      "    auc\n",
      "\n",
      "Warning message:\n",
      "\"package 'plotmo' was built under R version 3.5.3\"Loading required package: Formula\n",
      "Warning message:\n",
      "\"package 'Formula' was built under R version 3.5.2\"Loading required package: plotrix\n",
      "Warning message:\n",
      "\"package 'plotrix' was built under R version 3.5.3\"Loading required package: TeachingDemos\n",
      "Warning message:\n",
      "\"package 'TeachingDemos' was built under R version 3.5.3\"Warning message:\n",
      "\"package 'MASS' was built under R version 3.5.3\"Warning message:\n",
      "\"package 'tidyverse' was built under R version 3.5.3\"-- Attaching packages --------------------------------------- tidyverse 1.2.1 --\n",
      "v tibble  2.1.3     v purrr   0.3.2\n",
      "v tidyr   0.8.3     v dplyr   0.8.2\n",
      "v readr   1.3.1     v stringr 1.3.1\n",
      "v tibble  2.1.3     v forcats 0.4.0\n",
      "Warning message:\n",
      "\"package 'tibble' was built under R version 3.5.3\"Warning message:\n",
      "\"package 'tidyr' was built under R version 3.5.3\"Warning message:\n",
      "\"package 'readr' was built under R version 3.5.3\"Warning message:\n",
      "\"package 'purrr' was built under R version 3.5.3\"Warning message:\n",
      "\"package 'dplyr' was built under R version 3.5.3\"Warning message:\n",
      "\"package 'forcats' was built under R version 3.5.3\"-- Conflicts ------------------------------------------ tidyverse_conflicts() --\n",
      "x purrr::accumulate() masks foreach::accumulate()\n",
      "x dplyr::arrange()    masks plyr::arrange()\n",
      "x purrr::compact()    masks plyr::compact()\n",
      "x dplyr::count()      masks plyr::count()\n",
      "x tidyr::expand()     masks Matrix::expand()\n",
      "x dplyr::failwith()   masks plyr::failwith()\n",
      "x dplyr::filter()     masks stats::filter()\n",
      "x dplyr::id()         masks plyr::id()\n",
      "x dplyr::lag()        masks stats::lag()\n",
      "x dplyr::mutate()     masks plyr::mutate()\n",
      "x dplyr::rename()     masks plyr::rename()\n",
      "x dplyr::select()     masks MASS::select()\n",
      "x dplyr::summarise()  masks plyr::summarise()\n",
      "x dplyr::summarize()  masks plyr::summarize()\n",
      "x purrr::when()       masks foreach::when()\n",
      "Warning message:\n",
      "\"package 'adabag' was built under R version 3.5.3\"Loading required package: rpart\n",
      "Warning message:\n",
      "\"package 'rpart' was built under R version 3.5.3\"Loading required package: caret\n",
      "Warning message:\n",
      "\"package 'caret' was built under R version 3.5.3\"\n",
      "Attaching package: 'caret'\n",
      "\n",
      "The following object is masked from 'package:purrr':\n",
      "\n",
      "    lift\n",
      "\n",
      "Loading required package: doParallel\n",
      "Warning message:\n",
      "\"package 'doParallel' was built under R version 3.5.3\"Loading required package: iterators\n",
      "Warning message:\n",
      "\"package 'iterators' was built under R version 3.5.3\"Loading required package: parallel\n"
     ]
    }
   ],
   "source": [
    "library(plyr)\n",
    "library(lattice)\n",
    "library(reshape2)\n",
    "library(ggplot2)\n",
    "library(pROC)\n",
    "library(glmnet)\n",
    "library(class)\n",
    "library(plotmo)\n",
    "library(MASS)\n",
    "library(tidyverse)\n",
    "library(adabag)\n",
    "library(caret)"
   ]
  },
  {
   "cell_type": "code",
   "execution_count": 2,
   "metadata": {
    "slideshow": {
     "slide_type": "skip"
    }
   },
   "outputs": [],
   "source": [
    "options(repr.plot.width=4, repr.plot.height=3)"
   ]
  },
  {
   "cell_type": "markdown",
   "metadata": {
    "slideshow": {
     "slide_type": "slide"
    }
   },
   "source": [
    "# Statistical Learning Project"
   ]
  },
  {
   "cell_type": "markdown",
   "metadata": {
    "slideshow": {
     "slide_type": "-"
    }
   },
   "source": [
    "In this project i've decided to analyze the cars sold on Craigslist, an American website that provides a wide variety of Services, including the reselling of used cars"
   ]
  },
  {
   "cell_type": "markdown",
   "metadata": {
    "slideshow": {
     "slide_type": "slide"
    }
   },
   "source": [
    "## Exploratory Analysis"
   ]
  },
  {
   "cell_type": "markdown",
   "metadata": {
    "slideshow": {
     "slide_type": "skip"
    }
   },
   "source": [
    "### Clean Data"
   ]
  },
  {
   "cell_type": "code",
   "execution_count": 3,
   "metadata": {
    "slideshow": {
     "slide_type": "skip"
    }
   },
   "outputs": [],
   "source": [
    "Cars <- read.csv('./datasets/craigslistVehiclesFull.csv')"
   ]
  },
  {
   "cell_type": "code",
   "execution_count": 4,
   "metadata": {
    "scrolled": true,
    "slideshow": {
     "slide_type": "skip"
    }
   },
   "outputs": [
    {
     "data": {
      "text/html": [
       "<table>\n",
       "<thead><tr><th scope=col>url</th><th scope=col>city</th><th scope=col>price</th><th scope=col>year</th><th scope=col>manufacturer</th><th scope=col>make</th><th scope=col>condition</th><th scope=col>cylinders</th><th scope=col>fuel</th><th scope=col>odometer</th><th scope=col>...</th><th scope=col>paint_color</th><th scope=col>image_url</th><th scope=col>lat</th><th scope=col>long</th><th scope=col>county_fips</th><th scope=col>county_name</th><th scope=col>state_fips</th><th scope=col>state_code</th><th scope=col>state_name</th><th scope=col>weather</th></tr></thead>\n",
       "<tbody>\n",
       "\t<tr><td>https://marshall.craigslist.org/cto/d/2010-dodge-challenger-se/6717448841.html     </td><td>marshall                                                                           </td><td>11900                                                                              </td><td>2010                                                                               </td><td>dodge                                                                              </td><td>challenger se                                                                      </td><td>good                                                                               </td><td>6 cylinders                                                                        </td><td>gas                                                                                </td><td> 43600                                                                             </td><td>...                                                                                </td><td>red                                                                                </td><td>https://images.craigslist.org/00i0i_2ggH1eKDNKZ_600x450.jpg                        </td><td>43.47750                                                                           </td><td> -96.70410                                                                         </td><td>46083                                                                              </td><td>Lincoln                                                                            </td><td>46                                                                                 </td><td>SD                                                                                 </td><td>South Dakota                                                                       </td><td>38                                                                                 </td></tr>\n",
       "\t<tr><td>https://marshall.craigslist.org/cto/d/fleetwood-wilderness-trailer/6713515522.html </td><td>marshall                                                                           </td><td> 1515                                                                              </td><td>1999                                                                               </td><td>                                                                                   </td><td>fleetwood                                                                          </td><td>                                                                                   </td><td>                                                                                   </td><td>gas                                                                                </td><td>    NA                                                                             </td><td>...                                                                                </td><td>                                                                                   </td><td>https://images.craigslist.org/00M0M_irjh7SjEcUc_600x450.jpg                        </td><td>44.76120                                                                           </td><td> -96.69070                                                                         </td><td>46039                                                                              </td><td>Deuel                                                                              </td><td>46                                                                                 </td><td>SD                                                                                 </td><td>South Dakota                                                                       </td><td>38                                                                                 </td></tr>\n",
       "\t<tr><td>https://marshall.craigslist.org/cto/d/2008-ford-150-super-charged/6717040051.html  </td><td>marshall                                                                           </td><td>17550                                                                              </td><td>2008                                                                               </td><td>ford                                                                               </td><td>f-150                                                                              </td><td>                                                                                   </td><td>                                                                                   </td><td>gas                                                                                </td><td>    NA                                                                             </td><td>...                                                                                </td><td>                                                                                   </td><td>https://images.craigslist.org/00s0s_eL2XFhEUcx3_600x450.jpg                        </td><td>44.14150                                                                           </td><td>-103.20520                                                                         </td><td>46093                                                                              </td><td>Meade                                                                              </td><td>46                                                                                 </td><td>SD                                                                                 </td><td>South Dakota                                                                       </td><td>38                                                                                 </td></tr>\n",
       "\t<tr><td>https://marshall.craigslist.org/cto/d/ford-taurus/6717431178.html                  </td><td>marshall                                                                           </td><td> 2800                                                                              </td><td>2004                                                                               </td><td>ford                                                                               </td><td>taurus                                                                             </td><td>good                                                                               </td><td>6 cylinders                                                                        </td><td>gas                                                                                </td><td>168591                                                                             </td><td>...                                                                                </td><td>grey                                                                               </td><td>https://images.craigslist.org/00L0L_5HUR1nQjt84_600x450.jpg                        </td><td>43.28450                                                                           </td><td> -95.59300                                                                         </td><td>19143                                                                              </td><td>Osceola                                                                            </td><td>19                                                                                 </td><td>IA                                                                                 </td><td>Iowa                                                                               </td><td>47                                                                                 </td></tr>\n",
       "\t<tr><td>https://marshall.craigslist.org/cto/d/2001-grand-prix-gt/6703801452.html           </td><td>marshall                                                                           </td><td>  400                                                                              </td><td>2001                                                                               </td><td>                                                                                   </td><td>2001 Grand Prix                                                                    </td><td>                                                                                   </td><td>                                                                                   </td><td>gas                                                                                </td><td>217000                                                                             </td><td>...                                                                                </td><td>                                                                                   </td><td>https://images.craigslist.org/00n0n_bJJ1XnonSGl_600x450.jpg                        </td><td>43.02610                                                                           </td><td> -94.40640                                                                         </td><td>19109                                                                              </td><td>Kossuth                                                                            </td><td>19                                                                                 </td><td>IA                                                                                 </td><td>Iowa                                                                               </td><td>47                                                                                 </td></tr>\n",
       "\t<tr><td>https://marshall.craigslist.org/ctd/d/2007-gmc-yukon-denali-awd-4dr/6716702030.html</td><td>marshall                                                                           </td><td> 9900                                                                              </td><td>2007                                                                               </td><td>gmc                                                                                </td><td>yukon                                                                              </td><td>good                                                                               </td><td>8 cylinders                                                                        </td><td>gas                                                                                </td><td>169000                                                                             </td><td>...                                                                                </td><td>                                                                                   </td><td>https://images.craigslist.org/00T0T_hFLz9hAHi0c_600x450.jpg                        </td><td>43.32815                                                                           </td><td> -96.77445                                                                         </td><td>46083                                                                              </td><td>Lincoln                                                                            </td><td>46                                                                                 </td><td>SD                                                                                 </td><td>South Dakota                                                                       </td><td>38                                                                                 </td></tr>\n",
       "</tbody>\n",
       "</table>\n"
      ],
      "text/latex": [
       "\\begin{tabular}{r|llllllllllllllllllllllllll}\n",
       " url & city & price & year & manufacturer & make & condition & cylinders & fuel & odometer & ... & paint\\_color & image\\_url & lat & long & county\\_fips & county\\_name & state\\_fips & state\\_code & state\\_name & weather\\\\\n",
       "\\hline\n",
       "\t https://marshall.craigslist.org/cto/d/2010-dodge-challenger-se/6717448841.html      & marshall                                                                            & 11900                                                                               & 2010                                                                                & dodge                                                                               & challenger se                                                                       & good                                                                                & 6 cylinders                                                                         & gas                                                                                 &  43600                                                                              & ...                                                                                 & red                                                                                 & https://images.craigslist.org/00i0i\\_2ggH1eKDNKZ\\_600x450.jpg                     & 43.47750                                                                            &  -96.70410                                                                          & 46083                                                                               & Lincoln                                                                             & 46                                                                                  & SD                                                                                  & South Dakota                                                                        & 38                                                                                 \\\\\n",
       "\t https://marshall.craigslist.org/cto/d/fleetwood-wilderness-trailer/6713515522.html  & marshall                                                                            &  1515                                                                               & 1999                                                                                &                                                                                     & fleetwood                                                                           &                                                                                     &                                                                                     & gas                                                                                 &     NA                                                                              & ...                                                                                 &                                                                                     & https://images.craigslist.org/00M0M\\_irjh7SjEcUc\\_600x450.jpg                     & 44.76120                                                                            &  -96.69070                                                                          & 46039                                                                               & Deuel                                                                               & 46                                                                                  & SD                                                                                  & South Dakota                                                                        & 38                                                                                 \\\\\n",
       "\t https://marshall.craigslist.org/cto/d/2008-ford-150-super-charged/6717040051.html   & marshall                                                                            & 17550                                                                               & 2008                                                                                & ford                                                                                & f-150                                                                               &                                                                                     &                                                                                     & gas                                                                                 &     NA                                                                              & ...                                                                                 &                                                                                     & https://images.craigslist.org/00s0s\\_eL2XFhEUcx3\\_600x450.jpg                     & 44.14150                                                                            & -103.20520                                                                          & 46093                                                                               & Meade                                                                               & 46                                                                                  & SD                                                                                  & South Dakota                                                                        & 38                                                                                 \\\\\n",
       "\t https://marshall.craigslist.org/cto/d/ford-taurus/6717431178.html                   & marshall                                                                            &  2800                                                                               & 2004                                                                                & ford                                                                                & taurus                                                                              & good                                                                                & 6 cylinders                                                                         & gas                                                                                 & 168591                                                                              & ...                                                                                 & grey                                                                                & https://images.craigslist.org/00L0L\\_5HUR1nQjt84\\_600x450.jpg                     & 43.28450                                                                            &  -95.59300                                                                          & 19143                                                                               & Osceola                                                                             & 19                                                                                  & IA                                                                                  & Iowa                                                                                & 47                                                                                 \\\\\n",
       "\t https://marshall.craigslist.org/cto/d/2001-grand-prix-gt/6703801452.html            & marshall                                                                            &   400                                                                               & 2001                                                                                &                                                                                     & 2001 Grand Prix                                                                     &                                                                                     &                                                                                     & gas                                                                                 & 217000                                                                              & ...                                                                                 &                                                                                     & https://images.craigslist.org/00n0n\\_bJJ1XnonSGl\\_600x450.jpg                     & 43.02610                                                                            &  -94.40640                                                                          & 19109                                                                               & Kossuth                                                                             & 19                                                                                  & IA                                                                                  & Iowa                                                                                & 47                                                                                 \\\\\n",
       "\t https://marshall.craigslist.org/ctd/d/2007-gmc-yukon-denali-awd-4dr/6716702030.html & marshall                                                                            &  9900                                                                               & 2007                                                                                & gmc                                                                                 & yukon                                                                               & good                                                                                & 8 cylinders                                                                         & gas                                                                                 & 169000                                                                              & ...                                                                                 &                                                                                     & https://images.craigslist.org/00T0T\\_hFLz9hAHi0c\\_600x450.jpg                     & 43.32815                                                                            &  -96.77445                                                                          & 46083                                                                               & Lincoln                                                                             & 46                                                                                  & SD                                                                                  & South Dakota                                                                        & 38                                                                                 \\\\\n",
       "\\end{tabular}\n"
      ],
      "text/markdown": [
       "\n",
       "| url | city | price | year | manufacturer | make | condition | cylinders | fuel | odometer | ... | paint_color | image_url | lat | long | county_fips | county_name | state_fips | state_code | state_name | weather |\n",
       "|---|---|---|---|---|---|---|---|---|---|---|---|---|---|---|---|---|---|---|---|---|\n",
       "| https://marshall.craigslist.org/cto/d/2010-dodge-challenger-se/6717448841.html      | marshall                                                                            | 11900                                                                               | 2010                                                                                | dodge                                                                               | challenger se                                                                       | good                                                                                | 6 cylinders                                                                         | gas                                                                                 |  43600                                                                              | ...                                                                                 | red                                                                                 | https://images.craigslist.org/00i0i_2ggH1eKDNKZ_600x450.jpg                         | 43.47750                                                                            |  -96.70410                                                                          | 46083                                                                               | Lincoln                                                                             | 46                                                                                  | SD                                                                                  | South Dakota                                                                        | 38                                                                                  |\n",
       "| https://marshall.craigslist.org/cto/d/fleetwood-wilderness-trailer/6713515522.html  | marshall                                                                            |  1515                                                                               | 1999                                                                                |                                                                                     | fleetwood                                                                           |                                                                                     |                                                                                     | gas                                                                                 |     NA                                                                              | ...                                                                                 |                                                                                     | https://images.craigslist.org/00M0M_irjh7SjEcUc_600x450.jpg                         | 44.76120                                                                            |  -96.69070                                                                          | 46039                                                                               | Deuel                                                                               | 46                                                                                  | SD                                                                                  | South Dakota                                                                        | 38                                                                                  |\n",
       "| https://marshall.craigslist.org/cto/d/2008-ford-150-super-charged/6717040051.html   | marshall                                                                            | 17550                                                                               | 2008                                                                                | ford                                                                                | f-150                                                                               |                                                                                     |                                                                                     | gas                                                                                 |     NA                                                                              | ...                                                                                 |                                                                                     | https://images.craigslist.org/00s0s_eL2XFhEUcx3_600x450.jpg                         | 44.14150                                                                            | -103.20520                                                                          | 46093                                                                               | Meade                                                                               | 46                                                                                  | SD                                                                                  | South Dakota                                                                        | 38                                                                                  |\n",
       "| https://marshall.craigslist.org/cto/d/ford-taurus/6717431178.html                   | marshall                                                                            |  2800                                                                               | 2004                                                                                | ford                                                                                | taurus                                                                              | good                                                                                | 6 cylinders                                                                         | gas                                                                                 | 168591                                                                              | ...                                                                                 | grey                                                                                | https://images.craigslist.org/00L0L_5HUR1nQjt84_600x450.jpg                         | 43.28450                                                                            |  -95.59300                                                                          | 19143                                                                               | Osceola                                                                             | 19                                                                                  | IA                                                                                  | Iowa                                                                                | 47                                                                                  |\n",
       "| https://marshall.craigslist.org/cto/d/2001-grand-prix-gt/6703801452.html            | marshall                                                                            |   400                                                                               | 2001                                                                                |                                                                                     | 2001 Grand Prix                                                                     |                                                                                     |                                                                                     | gas                                                                                 | 217000                                                                              | ...                                                                                 |                                                                                     | https://images.craigslist.org/00n0n_bJJ1XnonSGl_600x450.jpg                         | 43.02610                                                                            |  -94.40640                                                                          | 19109                                                                               | Kossuth                                                                             | 19                                                                                  | IA                                                                                  | Iowa                                                                                | 47                                                                                  |\n",
       "| https://marshall.craigslist.org/ctd/d/2007-gmc-yukon-denali-awd-4dr/6716702030.html | marshall                                                                            |  9900                                                                               | 2007                                                                                | gmc                                                                                 | yukon                                                                               | good                                                                                | 8 cylinders                                                                         | gas                                                                                 | 169000                                                                              | ...                                                                                 |                                                                                     | https://images.craigslist.org/00T0T_hFLz9hAHi0c_600x450.jpg                         | 43.32815                                                                            |  -96.77445                                                                          | 46083                                                                               | Lincoln                                                                             | 46                                                                                  | SD                                                                                  | South Dakota                                                                        | 38                                                                                  |\n",
       "\n"
      ],
      "text/plain": [
       "  url                                                                                \n",
       "1 https://marshall.craigslist.org/cto/d/2010-dodge-challenger-se/6717448841.html     \n",
       "2 https://marshall.craigslist.org/cto/d/fleetwood-wilderness-trailer/6713515522.html \n",
       "3 https://marshall.craigslist.org/cto/d/2008-ford-150-super-charged/6717040051.html  \n",
       "4 https://marshall.craigslist.org/cto/d/ford-taurus/6717431178.html                  \n",
       "5 https://marshall.craigslist.org/cto/d/2001-grand-prix-gt/6703801452.html           \n",
       "6 https://marshall.craigslist.org/ctd/d/2007-gmc-yukon-denali-awd-4dr/6716702030.html\n",
       "  city     price year manufacturer make            condition cylinders   fuel\n",
       "1 marshall 11900 2010 dodge        challenger se   good      6 cylinders gas \n",
       "2 marshall  1515 1999              fleetwood                             gas \n",
       "3 marshall 17550 2008 ford         f-150                                 gas \n",
       "4 marshall  2800 2004 ford         taurus          good      6 cylinders gas \n",
       "5 marshall   400 2001              2001 Grand Prix                       gas \n",
       "6 marshall  9900 2007 gmc          yukon           good      8 cylinders gas \n",
       "  odometer ... paint_color\n",
       "1  43600   ... red        \n",
       "2     NA   ...            \n",
       "3     NA   ...            \n",
       "4 168591   ... grey       \n",
       "5 217000   ...            \n",
       "6 169000   ...            \n",
       "  image_url                                                   lat     \n",
       "1 https://images.craigslist.org/00i0i_2ggH1eKDNKZ_600x450.jpg 43.47750\n",
       "2 https://images.craigslist.org/00M0M_irjh7SjEcUc_600x450.jpg 44.76120\n",
       "3 https://images.craigslist.org/00s0s_eL2XFhEUcx3_600x450.jpg 44.14150\n",
       "4 https://images.craigslist.org/00L0L_5HUR1nQjt84_600x450.jpg 43.28450\n",
       "5 https://images.craigslist.org/00n0n_bJJ1XnonSGl_600x450.jpg 43.02610\n",
       "6 https://images.craigslist.org/00T0T_hFLz9hAHi0c_600x450.jpg 43.32815\n",
       "  long       county_fips county_name state_fips state_code state_name   weather\n",
       "1  -96.70410 46083       Lincoln     46         SD         South Dakota 38     \n",
       "2  -96.69070 46039       Deuel       46         SD         South Dakota 38     \n",
       "3 -103.20520 46093       Meade       46         SD         South Dakota 38     \n",
       "4  -95.59300 19143       Osceola     19         IA         Iowa         47     \n",
       "5  -94.40640 19109       Kossuth     19         IA         Iowa         47     \n",
       "6  -96.77445 46083       Lincoln     46         SD         South Dakota 38     "
      ]
     },
     "metadata": {},
     "output_type": "display_data"
    }
   ],
   "source": [
    "head(Cars)"
   ]
  },
  {
   "cell_type": "code",
   "execution_count": 5,
   "metadata": {
    "slideshow": {
     "slide_type": "skip"
    }
   },
   "outputs": [
    {
     "data": {
      "text/plain": [
       "                                                                                url         \n",
       " https://abbotsford.craigslist.ca/ctd/d/0-4x4-vchevrolet-silverado/6702961698.html:      1  \n",
       " https://abbotsford.craigslist.ca/ctd/d/0-4x4-vchevrolet-silverado/6730895913.html:      1  \n",
       " https://abbotsford.craigslist.ca/ctd/d/0-4x4-vchevrolet-silverado/6749980361.html:      1  \n",
       " https://abbotsford.craigslist.ca/ctd/d/0-and-5000-off-2018-gmc/6706407921.html   :      1  \n",
       " https://abbotsford.craigslist.ca/ctd/d/0-and-5000-off-2018-gmc/6714977484.html   :      1  \n",
       " https://abbotsford.craigslist.ca/ctd/d/0-and-5000-off-2018-gmc/6716193777.html   :      1  \n",
       " (Other)                                                                          :1723059  \n",
       "          city             price                year         manufacturer   \n",
       " cosprings  :   8283   Min.   :1.000e+00   Min.   : 302   ford     :292841  \n",
       " sfbay      :   8266   1st Qu.:3.295e+03   1st Qu.:2002   chevrolet:219801  \n",
       " miami      :   8234   Median :7.000e+03   Median :2007            :136414  \n",
       " sacramento :   8227   Mean   :1.076e+05   Mean   :2005   toyota   :116737  \n",
       " anchorage  :   8183   3rd Qu.:1.500e+04   3rd Qu.:2012   honda    : 89608  \n",
       " grandrapids:   8180   Max.   :2.069e+09   Max.   :2019   nissan   : 79994  \n",
       " (Other)    :1673692                       NA's   :6315   (Other)  :787670  \n",
       "             make             condition            cylinders     \n",
       "               :  69589            :700790              :691291  \n",
       " 1500          :  23346   excellent:443538   6 cylinders:362142  \n",
       " f-150         :  22243   fair     : 73907   8 cylinders:320890  \n",
       " silverado 1500:  15290   good     :378587   4 cylinders:293971  \n",
       " 2500          :  13289   like new :111584   other      : 35532  \n",
       " (Other)       :1579284   new      :  8663   5 cylinders: 10469  \n",
       " NA's          :     24   salvage  :  5996   (Other)    :  8770  \n",
       "       fuel            odometer            title_status        transmission    \n",
       "         :  10367   Min.   :       0             :   2554            :   9022  \n",
       " diesel  : 121712   1st Qu.:   58000   clean     :1601315   automatic:1474784  \n",
       " electric:   2454   Median :  107000   lien      :  21608   manual   : 202862  \n",
       " gas     :1531426   Mean   :  113639   missing   :  11289   other    :  36397  \n",
       " hybrid  :  10945   3rd Qu.:  152000   parts only:   5066                      \n",
       " other   :  46161   Max.   :10000000   rebuilt   :  49113                      \n",
       "                    NA's   :564054     salvage   :  32120                      \n",
       "               vin          drive                 size              type       \n",
       "                 :1117727      :661884              :1123967          :702931  \n",
       " 0               :   1660   4wd:445603   compact    :  93885   sedan  :271265  \n",
       " KELLY 6047278476:   1063   fwd:370040   full-size  : 321570   SUV    :244675  \n",
       " 1               :    374   rwd:245538   mid-size   : 171433   truck  :133715  \n",
       " BAD CREDIT      :    302                sub-compact:  12210   pickup :122900  \n",
       " (Other)         : 601829                                      coupe  : 72562  \n",
       " NA's            :    110                                      (Other):175017  \n",
       "  paint_color    \n",
       "        :695650  \n",
       " white  :228920  \n",
       " black  :200732  \n",
       " silver :147409  \n",
       " blue   :115929  \n",
       " red    :115627  \n",
       " (Other):218798  \n",
       "                                                       image_url      \n",
       " https://images.craigslist.org/01313_7S6L1Yguvn6_600x450.jpg:    490  \n",
       " https://images.craigslist.org/01414_dcrjIe4vmtI_600x450.jpg:    282  \n",
       " https://images.craigslist.org/00D0D_dMSHdXH0YfT_600x450.jpg:    109  \n",
       " https://images.craigslist.org/00101_lJpCrqfxZjv_600x450.jpg:    100  \n",
       " https://images.craigslist.org/00s0s_aGHCNdl5ljT_600x450.jpg:     97  \n",
       " https://images.craigslist.org/00o0o_iDmA85whb8z_600x450.jpg:     95  \n",
       " (Other)                                                    :1721892  \n",
       "      lat              long           county_fips        county_name     \n",
       " Min.   :-84.81   Min.   :-1000.00   Min.   : 1001             :  58833  \n",
       " 1st Qu.: 34.92   1st Qu.: -105.80   1st Qu.:12123   Jefferson :  18920  \n",
       " Median : 39.41   Median :  -88.24   Median :29021   Franklin  :  18878  \n",
       " Mean   : 38.78   Mean   :  -93.71   Mean   :28431   Orange    :  18217  \n",
       " 3rd Qu.: 42.55   3rd Qu.:  -81.03   3rd Qu.:41067   Washington:  15600  \n",
       " Max.   : 90.00   Max.   :  139.71   Max.   :56045   Sacramento:  15105  \n",
       "                                     NA's   :58833   (Other)   :1577512  \n",
       "   state_fips      state_code               state_name         weather     \n",
       " Min.   : 1.00   CA     : 154299   California    : 154299   Min.   :29.00  \n",
       " 1st Qu.:12.00   FL     : 111340   Florida       : 111340   1st Qu.:48.00  \n",
       " Median :29.00   TX     :  96996   Texas         :  96996   Median :53.00  \n",
       " Mean   :28.34   MI     :  79270   Michigan      :  79270   Mean   :53.79  \n",
       " 3rd Qu.:41.00   NY     :  71231   New York      :  71231   3rd Qu.:59.00  \n",
       " Max.   :56.00   NC     :  63301   North Carolina:  63301   Max.   :79.00  \n",
       " NA's   :58833   (Other):1146628   (Other)       :1146628   NA's   :59428  "
      ]
     },
     "metadata": {},
     "output_type": "display_data"
    }
   ],
   "source": [
    "summary(Cars)"
   ]
  },
  {
   "cell_type": "code",
   "execution_count": 6,
   "metadata": {
    "slideshow": {
     "slide_type": "skip"
    }
   },
   "outputs": [
    {
     "data": {
      "text/html": [
       "<ol class=list-inline>\n",
       "\t<li>'url'</li>\n",
       "\t<li>'city'</li>\n",
       "\t<li>'price'</li>\n",
       "\t<li>'year'</li>\n",
       "\t<li>'manufacturer'</li>\n",
       "\t<li>'make'</li>\n",
       "\t<li>'condition'</li>\n",
       "\t<li>'cylinders'</li>\n",
       "\t<li>'fuel'</li>\n",
       "\t<li>'odometer'</li>\n",
       "\t<li>'title_status'</li>\n",
       "\t<li>'transmission'</li>\n",
       "\t<li>'vin'</li>\n",
       "\t<li>'drive'</li>\n",
       "\t<li>'size'</li>\n",
       "\t<li>'type'</li>\n",
       "\t<li>'paint_color'</li>\n",
       "\t<li>'image_url'</li>\n",
       "\t<li>'lat'</li>\n",
       "\t<li>'long'</li>\n",
       "\t<li>'county_fips'</li>\n",
       "\t<li>'county_name'</li>\n",
       "\t<li>'state_fips'</li>\n",
       "\t<li>'state_code'</li>\n",
       "\t<li>'state_name'</li>\n",
       "\t<li>'weather'</li>\n",
       "</ol>\n"
      ],
      "text/latex": [
       "\\begin{enumerate*}\n",
       "\\item 'url'\n",
       "\\item 'city'\n",
       "\\item 'price'\n",
       "\\item 'year'\n",
       "\\item 'manufacturer'\n",
       "\\item 'make'\n",
       "\\item 'condition'\n",
       "\\item 'cylinders'\n",
       "\\item 'fuel'\n",
       "\\item 'odometer'\n",
       "\\item 'title\\_status'\n",
       "\\item 'transmission'\n",
       "\\item 'vin'\n",
       "\\item 'drive'\n",
       "\\item 'size'\n",
       "\\item 'type'\n",
       "\\item 'paint\\_color'\n",
       "\\item 'image\\_url'\n",
       "\\item 'lat'\n",
       "\\item 'long'\n",
       "\\item 'county\\_fips'\n",
       "\\item 'county\\_name'\n",
       "\\item 'state\\_fips'\n",
       "\\item 'state\\_code'\n",
       "\\item 'state\\_name'\n",
       "\\item 'weather'\n",
       "\\end{enumerate*}\n"
      ],
      "text/markdown": [
       "1. 'url'\n",
       "2. 'city'\n",
       "3. 'price'\n",
       "4. 'year'\n",
       "5. 'manufacturer'\n",
       "6. 'make'\n",
       "7. 'condition'\n",
       "8. 'cylinders'\n",
       "9. 'fuel'\n",
       "10. 'odometer'\n",
       "11. 'title_status'\n",
       "12. 'transmission'\n",
       "13. 'vin'\n",
       "14. 'drive'\n",
       "15. 'size'\n",
       "16. 'type'\n",
       "17. 'paint_color'\n",
       "18. 'image_url'\n",
       "19. 'lat'\n",
       "20. 'long'\n",
       "21. 'county_fips'\n",
       "22. 'county_name'\n",
       "23. 'state_fips'\n",
       "24. 'state_code'\n",
       "25. 'state_name'\n",
       "26. 'weather'\n",
       "\n",
       "\n"
      ],
      "text/plain": [
       " [1] \"url\"          \"city\"         \"price\"        \"year\"         \"manufacturer\"\n",
       " [6] \"make\"         \"condition\"    \"cylinders\"    \"fuel\"         \"odometer\"    \n",
       "[11] \"title_status\" \"transmission\" \"vin\"          \"drive\"        \"size\"        \n",
       "[16] \"type\"         \"paint_color\"  \"image_url\"    \"lat\"          \"long\"        \n",
       "[21] \"county_fips\"  \"county_name\"  \"state_fips\"   \"state_code\"   \"state_name\"  \n",
       "[26] \"weather\"     "
      ]
     },
     "metadata": {},
     "output_type": "display_data"
    },
    {
     "data": {
      "text/html": [
       "26"
      ],
      "text/latex": [
       "26"
      ],
      "text/markdown": [
       "26"
      ],
      "text/plain": [
       "[1] 26"
      ]
     },
     "metadata": {},
     "output_type": "display_data"
    },
    {
     "data": {
      "text/html": [
       "1723065"
      ],
      "text/latex": [
       "1723065"
      ],
      "text/markdown": [
       "1723065"
      ],
      "text/plain": [
       "[1] 1723065"
      ]
     },
     "metadata": {},
     "output_type": "display_data"
    }
   ],
   "source": [
    "names(Cars)\n",
    "length(Cars)\n",
    "nrow(Cars)"
   ]
  },
  {
   "cell_type": "markdown",
   "metadata": {
    "slideshow": {
     "slide_type": "skip"
    }
   },
   "source": [
    "As a first step I've removed the data that I've considered useless for the final results like the URLs.\n",
    "\n",
    "I've also removed all the columns that in my opinion carried redundant informations about the position of the car."
   ]
  },
  {
   "cell_type": "code",
   "execution_count": 7,
   "metadata": {
    "scrolled": true,
    "slideshow": {
     "slide_type": "skip"
    }
   },
   "outputs": [
    {
     "data": {
      "text/html": [
       "<ol class=list-inline>\n",
       "\t<li>'city'</li>\n",
       "\t<li>'price'</li>\n",
       "\t<li>'year'</li>\n",
       "\t<li>'manufacturer'</li>\n",
       "\t<li>'make'</li>\n",
       "\t<li>'condition'</li>\n",
       "\t<li>'cylinders'</li>\n",
       "\t<li>'fuel'</li>\n",
       "\t<li>'odometer'</li>\n",
       "\t<li>'title_status'</li>\n",
       "\t<li>'transmission'</li>\n",
       "\t<li>'vin'</li>\n",
       "\t<li>'drive'</li>\n",
       "\t<li>'size'</li>\n",
       "\t<li>'type'</li>\n",
       "\t<li>'paint_color'</li>\n",
       "\t<li>'county_name'</li>\n",
       "\t<li>'state_name'</li>\n",
       "\t<li>'weather'</li>\n",
       "</ol>\n"
      ],
      "text/latex": [
       "\\begin{enumerate*}\n",
       "\\item 'city'\n",
       "\\item 'price'\n",
       "\\item 'year'\n",
       "\\item 'manufacturer'\n",
       "\\item 'make'\n",
       "\\item 'condition'\n",
       "\\item 'cylinders'\n",
       "\\item 'fuel'\n",
       "\\item 'odometer'\n",
       "\\item 'title\\_status'\n",
       "\\item 'transmission'\n",
       "\\item 'vin'\n",
       "\\item 'drive'\n",
       "\\item 'size'\n",
       "\\item 'type'\n",
       "\\item 'paint\\_color'\n",
       "\\item 'county\\_name'\n",
       "\\item 'state\\_name'\n",
       "\\item 'weather'\n",
       "\\end{enumerate*}\n"
      ],
      "text/markdown": [
       "1. 'city'\n",
       "2. 'price'\n",
       "3. 'year'\n",
       "4. 'manufacturer'\n",
       "5. 'make'\n",
       "6. 'condition'\n",
       "7. 'cylinders'\n",
       "8. 'fuel'\n",
       "9. 'odometer'\n",
       "10. 'title_status'\n",
       "11. 'transmission'\n",
       "12. 'vin'\n",
       "13. 'drive'\n",
       "14. 'size'\n",
       "15. 'type'\n",
       "16. 'paint_color'\n",
       "17. 'county_name'\n",
       "18. 'state_name'\n",
       "19. 'weather'\n",
       "\n",
       "\n"
      ],
      "text/plain": [
       " [1] \"city\"         \"price\"        \"year\"         \"manufacturer\" \"make\"        \n",
       " [6] \"condition\"    \"cylinders\"    \"fuel\"         \"odometer\"     \"title_status\"\n",
       "[11] \"transmission\" \"vin\"          \"drive\"        \"size\"         \"type\"        \n",
       "[16] \"paint_color\"  \"county_name\"  \"state_name\"   \"weather\"     "
      ]
     },
     "metadata": {},
     "output_type": "display_data"
    }
   ],
   "source": [
    "Cars$url <- NULL\n",
    "Cars$image_url <- NULL\n",
    "Cars$lat <- NULL\n",
    "Cars$long <- NULL\n",
    "Cars$county_fips <- NULL\n",
    "Cars$state_fips <- NULL\n",
    "Cars$state_code <- NULL\n",
    "names(Cars)"
   ]
  },
  {
   "cell_type": "markdown",
   "metadata": {
    "slideshow": {
     "slide_type": "skip"
    }
   },
   "source": [
    "Then i've decided to check the presence of null values in order to evaluate wether to keep or not certain Columns and if I wanted to and how to handle NaNs"
   ]
  },
  {
   "cell_type": "code",
   "execution_count": 8,
   "metadata": {
    "slideshow": {
     "slide_type": "skip"
    }
   },
   "outputs": [
    {
     "data": {
      "text/plain": [
       "\n",
       "   FALSE     TRUE \n",
       "26127285  5981019 "
      ]
     },
     "metadata": {},
     "output_type": "display_data"
    },
    {
     "data": {
      "text/plain": [
       "\n",
       "   FALSE     TRUE \n",
       "32108304   629931 "
      ]
     },
     "metadata": {},
     "output_type": "display_data"
    }
   ],
   "source": [
    "table(Cars == '')\n",
    "table(is.na(Cars))"
   ]
  },
  {
   "cell_type": "markdown",
   "metadata": {
    "slideshow": {
     "slide_type": "skip"
    }
   },
   "source": [
    "While the empty strings are to many to be blindly removed the NaN values are quite few so we can simply drop them"
   ]
  },
  {
   "cell_type": "code",
   "execution_count": 9,
   "metadata": {
    "slideshow": {
     "slide_type": "skip"
    }
   },
   "outputs": [],
   "source": [
    "Cars <- na.omit(Cars)"
   ]
  },
  {
   "cell_type": "markdown",
   "metadata": {
    "slideshow": {
     "slide_type": "skip"
    }
   },
   "source": [
    "Now I will assess the empty strings to decide how to tackle them"
   ]
  },
  {
   "cell_type": "code",
   "execution_count": 10,
   "metadata": {
    "scrolled": false,
    "slideshow": {
     "slide_type": "skip"
    }
   },
   "outputs": [
    {
     "data": {
      "text/plain": [
       "\n",
       " FALSE   TRUE \n",
       "744876 363648 "
      ]
     },
     "metadata": {},
     "output_type": "display_data"
    },
    {
     "data": {
      "text/plain": [
       "\n",
       " FALSE   TRUE \n",
       "787594 320930 "
      ]
     },
     "metadata": {},
     "output_type": "display_data"
    },
    {
     "data": {
      "text/plain": [
       "\n",
       " FALSE   TRUE \n",
       "555293 553231 "
      ]
     },
     "metadata": {},
     "output_type": "display_data"
    },
    {
     "data": {
      "text/plain": [
       "\n",
       " FALSE   TRUE \n",
       "831494 277030 "
      ]
     },
     "metadata": {},
     "output_type": "display_data"
    },
    {
     "data": {
      "text/plain": [
       "\n",
       " FALSE   TRUE \n",
       "461534 646990 "
      ]
     },
     "metadata": {},
     "output_type": "display_data"
    },
    {
     "data": {
      "text/plain": [
       "\n",
       " FALSE   TRUE \n",
       "820396 288128 "
      ]
     },
     "metadata": {},
     "output_type": "display_data"
    },
    {
     "data": {
      "text/plain": [
       "\n",
       " FALSE   TRUE \n",
       "809050 299474 "
      ]
     },
     "metadata": {},
     "output_type": "display_data"
    }
   ],
   "source": [
    "table(Cars$condition == '')\n",
    "table(Cars$cylinders =='')\n",
    "table(Cars$vin == '')\n",
    "table(Cars$drive == '')\n",
    "table(Cars$size == '')\n",
    "table(Cars$type == '')\n",
    "table(Cars$paint_color == '')"
   ]
  },
  {
   "cell_type": "markdown",
   "metadata": {
    "slideshow": {
     "slide_type": "skip"
    }
   },
   "source": [
    "All the columns showed a certain percentage of empty string not small enough to decide to drop the rows containing them but not big enough to decide to drop the column entirely except for:\n",
    "\n",
    "* VIN: Veicle Identification Number\n",
    "* size: the size of the car\n",
    "\n",
    "While the former is a no brainer and can be dropped with little remorse since it hardly carries any interesting statistic the latter pose a bigger problem since while it could be interesting to analyze the fact that way more than 50% is an empty string made me decide in favor of dropping it to prevent unwanted biases in excange for the little added value it could have brought"
   ]
  },
  {
   "cell_type": "code",
   "execution_count": 11,
   "metadata": {
    "slideshow": {
     "slide_type": "skip"
    }
   },
   "outputs": [],
   "source": [
    "Cars$vin <- NULL\n",
    "Cars$size <- NULL"
   ]
  },
  {
   "cell_type": "markdown",
   "metadata": {
    "slideshow": {
     "slide_type": "skip"
    }
   },
   "source": [
    "Now that we've handled the NaNs we can proceed and analyze the various columns"
   ]
  },
  {
   "cell_type": "markdown",
   "metadata": {
    "slideshow": {
     "slide_type": "skip"
    }
   },
   "source": [
    "On a last note i've decided to drop all the data regarding the city/county/state from where the car was sold. This is due to the fact that as categorical variables, they held to many levels making both their analysis all but trivial and risked to overcomplicate the prediction model. In addition to that the linear model functions in R had some struggle in handling the dimensions of those columns.\n",
    "\n",
    "Those data could be interesting in case we wanted to focus our attention on them, but in our case we are trying to create a general model to predict the reasons behind the price of cars in Craigslist, overcomplicating the model would be of no help for our purpose."
   ]
  },
  {
   "cell_type": "code",
   "execution_count": 12,
   "metadata": {
    "slideshow": {
     "slide_type": "skip"
    }
   },
   "outputs": [],
   "source": [
    "Cars$city <- NULL\n",
    "Cars$county_name <- NULL\n",
    "Cars$state_name <- NULL"
   ]
  },
  {
   "cell_type": "markdown",
   "metadata": {
    "slideshow": {
     "slide_type": "skip"
    }
   },
   "source": [
    "One thing i've noticed by looking at the summary of prices and odometers is that there is quite some range between the mean and the maximum values, therefore i've decided to remove the highest values to prevent biases caused by extreme outliers"
   ]
  },
  {
   "cell_type": "code",
   "execution_count": 13,
   "metadata": {
    "slideshow": {
     "slide_type": "skip"
    }
   },
   "outputs": [
    {
     "data": {
      "text/plain": [
       "     Min.   1st Qu.    Median      Mean   3rd Qu.      Max. \n",
       "1.000e+00 4.000e+03 8.606e+03 4.977e+04 1.650e+04 2.032e+09 "
      ]
     },
     "metadata": {},
     "output_type": "display_data"
    },
    {
     "data": {
      "text/plain": [
       "    Min.  1st Qu.   Median     Mean  3rd Qu.     Max. \n",
       "       0    59533   107770   114223   152000 10000000 "
      ]
     },
     "metadata": {},
     "output_type": "display_data"
    }
   ],
   "source": [
    "summary(Cars$price)\n",
    "summary(Cars$odometer)"
   ]
  },
  {
   "cell_type": "code",
   "execution_count": 14,
   "metadata": {
    "slideshow": {
     "slide_type": "skip"
    }
   },
   "outputs": [],
   "source": [
    "upperbound <- quantile(Cars$price,probs=c(0.001,0.99))[2]\n",
    "Cars <- Cars[Cars$price<upperbound,]"
   ]
  },
  {
   "cell_type": "code",
   "execution_count": 15,
   "metadata": {
    "slideshow": {
     "slide_type": "skip"
    }
   },
   "outputs": [],
   "source": [
    "upperbound.odo <- quantile(Cars$odometer,probs=c(0.025,0.99))[2]\n",
    "Cars <- Cars[Cars$odometer<upperbound.odo,]"
   ]
  },
  {
   "cell_type": "code",
   "execution_count": 16,
   "metadata": {
    "slideshow": {
     "slide_type": "skip"
    }
   },
   "outputs": [
    {
     "data": {
      "text/plain": [
       "   Min. 1st Qu.  Median    Mean 3rd Qu.    Max. \n",
       "      1    4000    8500   11510   16100   49998 "
      ]
     },
     "metadata": {},
     "output_type": "display_data"
    },
    {
     "data": {
      "text/plain": [
       "   Min. 1st Qu.  Median    Mean 3rd Qu.    Max. \n",
       "      0   60000  107502  108469  151000  296078 "
      ]
     },
     "metadata": {},
     "output_type": "display_data"
    }
   ],
   "source": [
    "summary(Cars$price)\n",
    "summary(Cars$odometer)"
   ]
  },
  {
   "cell_type": "markdown",
   "metadata": {
    "slideshow": {
     "slide_type": "skip"
    }
   },
   "source": [
    "### Explore Data"
   ]
  },
  {
   "cell_type": "code",
   "execution_count": 128,
   "metadata": {
    "scrolled": false,
    "slideshow": {
     "slide_type": "slide"
    }
   },
   "outputs": [
    {
     "data": {
      "text/html": [
       "<table>\n",
       "<thead><tr><th></th><th scope=col>price</th><th scope=col>year</th><th scope=col>manufacturer</th><th scope=col>make</th><th scope=col>condition</th><th scope=col>cylinders</th><th scope=col>fuel</th><th scope=col>odometer</th><th scope=col>title_status</th><th scope=col>transmission</th><th scope=col>drive</th><th scope=col>type</th><th scope=col>paint_color</th><th scope=col>weather</th></tr></thead>\n",
       "<tbody>\n",
       "\t<tr><th scope=row>1</th><td>11900                </td><td>2010                 </td><td>dodge                </td><td>challenger se        </td><td>good                 </td><td>6 cylinders          </td><td>gas                  </td><td> 43600               </td><td>clean                </td><td>automatic            </td><td>rwd                  </td><td>coupe                </td><td>red                  </td><td>38                   </td></tr>\n",
       "\t<tr><th scope=row>4</th><td> 2800                </td><td>2004                 </td><td>ford                 </td><td>taurus               </td><td>good                 </td><td>6 cylinders          </td><td>gas                  </td><td>168591               </td><td>clean                </td><td>automatic            </td><td>fwd                  </td><td>sedan                </td><td>grey                 </td><td>47                   </td></tr>\n",
       "\t<tr><th scope=row>5</th><td>  400                </td><td>2001                 </td><td>                     </td><td>2001 Grand Prix      </td><td>                     </td><td>                     </td><td>gas                  </td><td>217000               </td><td>clean                </td><td>automatic            </td><td>                     </td><td>                     </td><td>                     </td><td>47                   </td></tr>\n",
       "\t<tr><th scope=row>6</th><td> 9900                </td><td>2007                 </td><td>gmc                  </td><td>yukon                </td><td>good                 </td><td>8 cylinders          </td><td>gas                  </td><td>169000               </td><td>clean                </td><td>automatic            </td><td>4wd                  </td><td>                     </td><td>                     </td><td>38                   </td></tr>\n",
       "\t<tr><th scope=row>7</th><td>12500                </td><td>2015                 </td><td>jeep                 </td><td>patriot high altitude</td><td>like new             </td><td>4 cylinders          </td><td>gas                  </td><td> 39500               </td><td>rebuilt              </td><td>automatic            </td><td>4wd                  </td><td>SUV                  </td><td>grey                 </td><td>38                   </td></tr>\n",
       "\t<tr><th scope=row>8</th><td> 3900                </td><td>2008                 </td><td>bmw                  </td><td>3 series             </td><td>                     </td><td>                     </td><td>gas                  </td><td>     0               </td><td>clean                </td><td>                     </td><td>                     </td><td>                     </td><td>                     </td><td>48                   </td></tr>\n",
       "</tbody>\n",
       "</table>\n"
      ],
      "text/latex": [
       "\\begin{tabular}{r|llllllllllllll}\n",
       "  & price & year & manufacturer & make & condition & cylinders & fuel & odometer & title\\_status & transmission & drive & type & paint\\_color & weather\\\\\n",
       "\\hline\n",
       "\t1 & 11900                 & 2010                  & dodge                 & challenger se         & good                  & 6 cylinders           & gas                   &  43600                & clean                 & automatic             & rwd                   & coupe                 & red                   & 38                   \\\\\n",
       "\t4 &  2800                 & 2004                  & ford                  & taurus                & good                  & 6 cylinders           & gas                   & 168591                & clean                 & automatic             & fwd                   & sedan                 & grey                  & 47                   \\\\\n",
       "\t5 &   400                 & 2001                  &                       & 2001 Grand Prix       &                       &                       & gas                   & 217000                & clean                 & automatic             &                       &                       &                       & 47                   \\\\\n",
       "\t6 &  9900                 & 2007                  & gmc                   & yukon                 & good                  & 8 cylinders           & gas                   & 169000                & clean                 & automatic             & 4wd                   &                       &                       & 38                   \\\\\n",
       "\t7 & 12500                 & 2015                  & jeep                  & patriot high altitude & like new              & 4 cylinders           & gas                   &  39500                & rebuilt               & automatic             & 4wd                   & SUV                   & grey                  & 38                   \\\\\n",
       "\t8 &  3900                 & 2008                  & bmw                   & 3 series              &                       &                       & gas                   &      0                & clean                 &                       &                       &                       &                       & 48                   \\\\\n",
       "\\end{tabular}\n"
      ],
      "text/markdown": [
       "\n",
       "| <!--/--> | price | year | manufacturer | make | condition | cylinders | fuel | odometer | title_status | transmission | drive | type | paint_color | weather |\n",
       "|---|---|---|---|---|---|---|---|---|---|---|---|---|---|---|\n",
       "| 1 | 11900                 | 2010                  | dodge                 | challenger se         | good                  | 6 cylinders           | gas                   |  43600                | clean                 | automatic             | rwd                   | coupe                 | red                   | 38                    |\n",
       "| 4 |  2800                 | 2004                  | ford                  | taurus                | good                  | 6 cylinders           | gas                   | 168591                | clean                 | automatic             | fwd                   | sedan                 | grey                  | 47                    |\n",
       "| 5 |   400                 | 2001                  |                       | 2001 Grand Prix       |                       |                       | gas                   | 217000                | clean                 | automatic             |                       |                       |                       | 47                    |\n",
       "| 6 |  9900                 | 2007                  | gmc                   | yukon                 | good                  | 8 cylinders           | gas                   | 169000                | clean                 | automatic             | 4wd                   |                       |                       | 38                    |\n",
       "| 7 | 12500                 | 2015                  | jeep                  | patriot high altitude | like new              | 4 cylinders           | gas                   |  39500                | rebuilt               | automatic             | 4wd                   | SUV                   | grey                  | 38                    |\n",
       "| 8 |  3900                 | 2008                  | bmw                   | 3 series              |                       |                       | gas                   |      0                | clean                 |                       |                       |                       |                       | 48                    |\n",
       "\n"
      ],
      "text/plain": [
       "  price year manufacturer make                  condition cylinders   fuel\n",
       "1 11900 2010 dodge        challenger se         good      6 cylinders gas \n",
       "4  2800 2004 ford         taurus                good      6 cylinders gas \n",
       "5   400 2001              2001 Grand Prix                             gas \n",
       "6  9900 2007 gmc          yukon                 good      8 cylinders gas \n",
       "7 12500 2015 jeep         patriot high altitude like new  4 cylinders gas \n",
       "8  3900 2008 bmw          3 series                                    gas \n",
       "  odometer title_status transmission drive type  paint_color weather\n",
       "1  43600   clean        automatic    rwd   coupe red         38     \n",
       "4 168591   clean        automatic    fwd   sedan grey        47     \n",
       "5 217000   clean        automatic                            47     \n",
       "6 169000   clean        automatic    4wd                     38     \n",
       "7  39500   rebuilt      automatic    4wd   SUV   grey        38     \n",
       "8      0   clean                                             48     "
      ]
     },
     "metadata": {},
     "output_type": "display_data"
    }
   ],
   "source": [
    "head(Cars)"
   ]
  },
  {
   "cell_type": "markdown",
   "metadata": {
    "slideshow": {
     "slide_type": "slide"
    }
   },
   "source": [
    "As a first step we can look at the heatmap of correlations for the numerical data to get a quicker idea of what to expect from those values"
   ]
  },
  {
   "cell_type": "code",
   "execution_count": 18,
   "metadata": {
    "slideshow": {
     "slide_type": "-"
    }
   },
   "outputs": [
    {
     "data": {
      "image/png": "[encoded data removed]",
      "text/plain": [
       "plot without title"
      ]
     },
     "metadata": {},
     "output_type": "display_data"
    }
   ],
   "source": [
    "cols <- unlist(lapply(Cars, is.numeric))\n",
    "cormat <- round(cor(Cars[,cols]),3)\n",
    "melted_cormat <- melt(cormat)\n",
    "ggplot(data = melted_cormat, aes(x=Var1, y=Var2, fill=value)) + geom_tile()"
   ]
  },
  {
   "cell_type": "markdown",
   "metadata": {
    "slideshow": {
     "slide_type": "slide"
    }
   },
   "source": [
    "#### Price"
   ]
  },
  {
   "cell_type": "code",
   "execution_count": 19,
   "metadata": {
    "slideshow": {
     "slide_type": "-"
    }
   },
   "outputs": [
    {
     "data": {
      "text/plain": [
       "   Min. 1st Qu.  Median    Mean 3rd Qu.    Max. \n",
       "      1    4000    8500   11510   16100   49998 "
      ]
     },
     "metadata": {},
     "output_type": "display_data"
    }
   ],
   "source": [
    "summary(Cars$price)"
   ]
  },
  {
   "cell_type": "markdown",
   "metadata": {
    "slideshow": {
     "slide_type": "-"
    }
   },
   "source": [
    "Regarding prices there is not much expectation a part from some data possibly normally distributed with maybe some skewness to the right due to what we've seen earlier"
   ]
  },
  {
   "cell_type": "code",
   "execution_count": 20,
   "metadata": {
    "slideshow": {
     "slide_type": "slide"
    }
   },
   "outputs": [
    {
     "data": {
      "image/png": "[encoded data removed]",
      "text/plain": [
       "Plot with title \"density.default(x = Cars$price)\""
      ]
     },
     "metadata": {},
     "output_type": "display_data"
    }
   ],
   "source": [
    "den <- density(Cars$price)\n",
    "plot(den)"
   ]
  },
  {
   "cell_type": "code",
   "execution_count": 21,
   "metadata": {
    "slideshow": {
     "slide_type": "skip"
    }
   },
   "outputs": [
    {
     "data": {
      "image/png": "[encoded data removed]",
      "text/plain": [
       "plot without title"
      ]
     },
     "metadata": {},
     "output_type": "display_data"
    }
   ],
   "source": [
    "bwplot(Cars$price)"
   ]
  },
  {
   "cell_type": "markdown",
   "metadata": {
    "slideshow": {
     "slide_type": "slide"
    }
   },
   "source": [
    "#### Year"
   ]
  },
  {
   "cell_type": "code",
   "execution_count": 22,
   "metadata": {
    "slideshow": {
     "slide_type": "-"
    }
   },
   "outputs": [
    {
     "data": {
      "text/plain": [
       "   Min. 1st Qu.  Median    Mean 3rd Qu.    Max. \n",
       "   1900    2004    2008    2007    2013    2019 "
      ]
     },
     "metadata": {},
     "output_type": "display_data"
    }
   ],
   "source": [
    "summary(Cars$year)"
   ]
  },
  {
   "cell_type": "markdown",
   "metadata": {
    "slideshow": {
     "slide_type": "-"
    }
   },
   "source": [
    "As for the year of the car already by looking at the summary we can see a strong presence of new cars being sold."
   ]
  },
  {
   "cell_type": "code",
   "execution_count": 23,
   "metadata": {
    "slideshow": {
     "slide_type": "slide"
    }
   },
   "outputs": [
    {
     "data": {
      "image/png": "[encoded data removed]",
      "text/plain": [
       "Plot with title \"Histogram of Cars$year\""
      ]
     },
     "metadata": {},
     "output_type": "display_data"
    }
   ],
   "source": [
    "hist(Cars$year)"
   ]
  },
  {
   "cell_type": "code",
   "execution_count": 24,
   "metadata": {
    "slideshow": {
     "slide_type": "skip"
    }
   },
   "outputs": [
    {
     "data": {
      "image/png": "[encoded data removed]",
      "text/plain": [
       "plot without title"
      ]
     },
     "metadata": {},
     "output_type": "display_data"
    }
   ],
   "source": [
    "plot(Cars[c(1:1000),]$price~Cars[c(1:1000),]$year)"
   ]
  },
  {
   "cell_type": "code",
   "execution_count": 25,
   "metadata": {
    "slideshow": {
     "slide_type": "skip"
    }
   },
   "outputs": [
    {
     "data": {
      "image/png": "[encoded data removed]",
      "text/plain": [
       "plot without title"
      ]
     },
     "metadata": {},
     "output_type": "display_data"
    }
   ],
   "source": [
    "bwplot(Cars$price~cut(Cars$year, breaks = seq(1900,2020,by=10)), scales=list(y=list(rot=45), x=list(rot=45)))"
   ]
  },
  {
   "cell_type": "markdown",
   "metadata": {
    "slideshow": {
     "slide_type": "skip"
    }
   },
   "source": [
    "#### Manufacturer"
   ]
  },
  {
   "cell_type": "code",
   "execution_count": 26,
   "metadata": {
    "scrolled": true,
    "slideshow": {
     "slide_type": "skip"
    }
   },
   "outputs": [
    {
     "data": {
      "text/html": [
       "<dl class=dl-horizontal>\n",
       "\t<dt>1</dt>\n",
       "\t\t<dd>54312</dd>\n",
       "\t<dt>acura</dt>\n",
       "\t\t<dd>10547</dd>\n",
       "\t<dt>alfa</dt>\n",
       "\t\t<dd>47</dd>\n",
       "\t<dt>alfa-romeo</dt>\n",
       "\t\t<dd>82</dd>\n",
       "\t<dt>aston</dt>\n",
       "\t\t<dd>16</dd>\n",
       "\t<dt>aston-martin</dt>\n",
       "\t\t<dd>28</dd>\n",
       "\t<dt>audi</dt>\n",
       "\t\t<dd>10254</dd>\n",
       "\t<dt>bmw</dt>\n",
       "\t\t<dd>29872</dd>\n",
       "\t<dt>buick</dt>\n",
       "\t\t<dd>15048</dd>\n",
       "\t<dt>cadillac</dt>\n",
       "\t\t<dd>16431</dd>\n",
       "</dl>\n"
      ],
      "text/latex": [
       "\\begin{description*}\n",
       "\\item[1] 54312\n",
       "\\item[acura] 10547\n",
       "\\item[alfa] 47\n",
       "\\item[alfa-romeo] 82\n",
       "\\item[aston] 16\n",
       "\\item[aston-martin] 28\n",
       "\\item[audi] 10254\n",
       "\\item[bmw] 29872\n",
       "\\item[buick] 15048\n",
       "\\item[cadillac] 16431\n",
       "\\end{description*}\n"
      ],
      "text/markdown": [
       "1\n",
       ":   54312acura\n",
       ":   10547alfa\n",
       ":   47alfa-romeo\n",
       ":   82aston\n",
       ":   16aston-martin\n",
       ":   28audi\n",
       ":   10254bmw\n",
       ":   29872buick\n",
       ":   15048cadillac\n",
       ":   16431\n",
       "\n"
      ],
      "text/plain": [
       "                    acura         alfa   alfa-romeo        aston aston-martin \n",
       "       54312        10547           47           82           16           28 \n",
       "        audi          bmw        buick     cadillac \n",
       "       10254        29872        15048        16431 "
      ]
     },
     "metadata": {},
     "output_type": "display_data"
    }
   ],
   "source": [
    "head(summary(Cars$manufacturer),10)"
   ]
  },
  {
   "cell_type": "markdown",
   "metadata": {
    "slideshow": {
     "slide_type": "skip"
    }
   },
   "source": [
    "One thing about manufacturers that didn't came up straight away during data cleaning are duplicates. while this could bring some troubles in the process of assessing his correlation with the prices, a full check of duplicates is a huge work by any means therefore I've decided to ignore the issue for now and keep the information"
   ]
  },
  {
   "cell_type": "code",
   "execution_count": 27,
   "metadata": {
    "slideshow": {
     "slide_type": "skip"
    }
   },
   "outputs": [
    {
     "data": {
      "image/png": "[encoded data removed]",
      "text/plain": [
       "plot without title"
      ]
     },
     "metadata": {},
     "output_type": "display_data"
    }
   ],
   "source": [
    "plot(Cars$manufacturer)"
   ]
  },
  {
   "cell_type": "code",
   "execution_count": 28,
   "metadata": {
    "slideshow": {
     "slide_type": "skip"
    }
   },
   "outputs": [
    {
     "data": {
      "image/png": "[encoded data removed]",
      "text/plain": [
       "plot without title"
      ]
     },
     "metadata": {},
     "output_type": "display_data"
    }
   ],
   "source": [
    "bwplot(Cars$price~Cars$manufacturer, scales=list(y=list(rot=45), x=list(draw=FALSE)))"
   ]
  },
  {
   "cell_type": "code",
   "execution_count": 29,
   "metadata": {
    "slideshow": {
     "slide_type": "skip"
    }
   },
   "outputs": [
    {
     "data": {
      "text/html": [
       "<table>\n",
       "<thead><tr><th scope=col>manufacturer</th><th scope=col>average</th></tr></thead>\n",
       "<tbody>\n",
       "\t<tr><td>aston       </td><td>38185.81    </td></tr>\n",
       "\t<tr><td>aston-martin</td><td>36914.29    </td></tr>\n",
       "\t<tr><td>hennessey   </td><td>33500.00    </td></tr>\n",
       "\t<tr><td>ferrari     </td><td>25196.20    </td></tr>\n",
       "\t<tr><td>ram         </td><td>20421.60    </td></tr>\n",
       "\t<tr><td>morgan      </td><td>17850.25    </td></tr>\n",
       "\t<tr><td>rover       </td><td>16157.09    </td></tr>\n",
       "\t<tr><td>gmc         </td><td>15631.90    </td></tr>\n",
       "</tbody>\n",
       "</table>\n"
      ],
      "text/latex": [
       "\\begin{tabular}{r|ll}\n",
       " manufacturer & average\\\\\n",
       "\\hline\n",
       "\t aston        & 38185.81    \\\\\n",
       "\t aston-martin & 36914.29    \\\\\n",
       "\t hennessey    & 33500.00    \\\\\n",
       "\t ferrari      & 25196.20    \\\\\n",
       "\t ram          & 20421.60    \\\\\n",
       "\t morgan       & 17850.25    \\\\\n",
       "\t rover        & 16157.09    \\\\\n",
       "\t gmc          & 15631.90    \\\\\n",
       "\\end{tabular}\n"
      ],
      "text/markdown": [
       "\n",
       "| manufacturer | average |\n",
       "|---|---|\n",
       "| aston        | 38185.81     |\n",
       "| aston-martin | 36914.29     |\n",
       "| hennessey    | 33500.00     |\n",
       "| ferrari      | 25196.20     |\n",
       "| ram          | 20421.60     |\n",
       "| morgan       | 17850.25     |\n",
       "| rover        | 16157.09     |\n",
       "| gmc          | 15631.90     |\n",
       "\n"
      ],
      "text/plain": [
       "  manufacturer average \n",
       "1 aston        38185.81\n",
       "2 aston-martin 36914.29\n",
       "3 hennessey    33500.00\n",
       "4 ferrari      25196.20\n",
       "5 ram          20421.60\n",
       "6 morgan       17850.25\n",
       "7 rover        16157.09\n",
       "8 gmc          15631.90"
      ]
     },
     "metadata": {},
     "output_type": "display_data"
    }
   ],
   "source": [
    "Cars %>% \n",
    "  group_by(manufacturer) %>% \n",
    "  summarise(average = mean(price)) %>%\n",
    "  arrange(desc(average)) %>%\n",
    "  filter(average,average>15000)"
   ]
  },
  {
   "cell_type": "markdown",
   "metadata": {
    "slideshow": {
     "slide_type": "skip"
    }
   },
   "source": [
    "#### Make"
   ]
  },
  {
   "cell_type": "code",
   "execution_count": 30,
   "metadata": {
    "slideshow": {
     "slide_type": "skip"
    }
   },
   "outputs": [
    {
     "data": {
      "text/html": [
       "<dl class=dl-horizontal>\n",
       "\t<dt>1</dt>\n",
       "\t\t<dd>23232</dd>\n",
       "\t<dt>f-150</dt>\n",
       "\t\t<dd>17274</dd>\n",
       "\t<dt>1500</dt>\n",
       "\t\t<dd>14216</dd>\n",
       "\t<dt>silverado 1500</dt>\n",
       "\t\t<dd>12478</dd>\n",
       "\t<dt>2500</dt>\n",
       "\t\t<dd>7835</dd>\n",
       "\t<dt>wrangler</dt>\n",
       "\t\t<dd>7702</dd>\n",
       "\t<dt>mustang</dt>\n",
       "\t\t<dd>7458</dd>\n",
       "\t<dt>accord</dt>\n",
       "\t\t<dd>7396</dd>\n",
       "\t<dt>camry</dt>\n",
       "\t\t<dd>7374</dd>\n",
       "\t<dt>silverado</dt>\n",
       "\t\t<dd>7243</dd>\n",
       "</dl>\n"
      ],
      "text/latex": [
       "\\begin{description*}\n",
       "\\item[1] 23232\n",
       "\\item[f-150] 17274\n",
       "\\item[1500] 14216\n",
       "\\item[silverado 1500] 12478\n",
       "\\item[2500] 7835\n",
       "\\item[wrangler] 7702\n",
       "\\item[mustang] 7458\n",
       "\\item[accord] 7396\n",
       "\\item[camry] 7374\n",
       "\\item[silverado] 7243\n",
       "\\end{description*}\n"
      ],
      "text/markdown": [
       "1\n",
       ":   23232f-150\n",
       ":   172741500\n",
       ":   14216silverado 1500\n",
       ":   124782500\n",
       ":   7835wrangler\n",
       ":   7702mustang\n",
       ":   7458accord\n",
       ":   7396camry\n",
       ":   7374silverado\n",
       ":   7243\n",
       "\n"
      ],
      "text/plain": [
       "                        f-150           1500 silverado 1500           2500 \n",
       "         23232          17274          14216          12478           7835 \n",
       "      wrangler        mustang         accord          camry      silverado \n",
       "          7702           7458           7396           7374           7243 "
      ]
     },
     "metadata": {},
     "output_type": "display_data"
    }
   ],
   "source": [
    "head(summary(Cars$make),10)"
   ]
  },
  {
   "cell_type": "code",
   "execution_count": 31,
   "metadata": {
    "slideshow": {
     "slide_type": "skip"
    }
   },
   "outputs": [
    {
     "data": {
      "text/html": [
       "107448"
      ],
      "text/latex": [
       "107448"
      ],
      "text/markdown": [
       "107448"
      ],
      "text/plain": [
       "[1] 107448"
      ]
     },
     "metadata": {},
     "output_type": "display_data"
    }
   ],
   "source": [
    "length(levels(Cars$make))"
   ]
  },
  {
   "cell_type": "markdown",
   "metadata": {
    "slideshow": {
     "slide_type": "skip"
    }
   },
   "source": [
    "The make of the car could pose a huge threat on our success in building a useful predictive model given his great amount of categories and also the possibility of duplicates and typos as in manufacturers, therefore I will keep an eye on it and probably drop it as soon as possible"
   ]
  },
  {
   "cell_type": "code",
   "execution_count": 32,
   "metadata": {
    "slideshow": {
     "slide_type": "skip"
    }
   },
   "outputs": [
    {
     "data": {
      "image/png": "[encoded data removed]",
      "text/plain": [
       "plot without title"
      ]
     },
     "metadata": {},
     "output_type": "display_data"
    }
   ],
   "source": [
    "plot(Cars$make)"
   ]
  },
  {
   "cell_type": "code",
   "execution_count": 33,
   "metadata": {
    "slideshow": {
     "slide_type": "skip"
    }
   },
   "outputs": [
    {
     "data": {
      "text/html": [
       "<strong>75%:</strong> 34250"
      ],
      "text/latex": [
       "\\textbf{75\\textbackslash{}\\%:} 34250"
      ],
      "text/markdown": [
       "**75%:** 34250"
      ],
      "text/plain": [
       "  75% \n",
       "34250 "
      ]
     },
     "metadata": {},
     "output_type": "display_data"
    }
   ],
   "source": [
    "range <- quantile(Cars$price)\n",
    "low <- range[2]\n",
    "up <- range[4]\n",
    "iqr <- up-low\n",
    "upperbound <- (iqr*1.5)+up\n",
    "upperbound"
   ]
  },
  {
   "cell_type": "code",
   "execution_count": 34,
   "metadata": {
    "scrolled": true,
    "slideshow": {
     "slide_type": "skip"
    }
   },
   "outputs": [
    {
     "data": {
      "text/html": [
       "<table>\n",
       "<thead><tr><th scope=col>n</th></tr></thead>\n",
       "<tbody>\n",
       "\t<tr><td>2693</td></tr>\n",
       "</tbody>\n",
       "</table>\n"
      ],
      "text/latex": [
       "\\begin{tabular}{r|l}\n",
       " n\\\\\n",
       "\\hline\n",
       "\t 2693\\\\\n",
       "\\end{tabular}\n"
      ],
      "text/markdown": [
       "\n",
       "| n |\n",
       "|---|\n",
       "| 2693 |\n",
       "\n"
      ],
      "text/plain": [
       "  n   \n",
       "1 2693"
      ]
     },
     "metadata": {},
     "output_type": "display_data"
    }
   ],
   "source": [
    "Cars %>% \n",
    "  group_by(make) %>% \n",
    "  summarise(average = mean(price)) %>%\n",
    "  arrange(desc(average)) %>%\n",
    "  filter(average,average>34250) %>%\n",
    "  tally()"
   ]
  },
  {
   "cell_type": "markdown",
   "metadata": {
    "slideshow": {
     "slide_type": "skip"
    }
   },
   "source": [
    "as we can see there are a great amount of categories with an average price over the outliers range of prices"
   ]
  },
  {
   "cell_type": "markdown",
   "metadata": {
    "slideshow": {
     "slide_type": "slide"
    }
   },
   "source": [
    "#### Condition"
   ]
  },
  {
   "cell_type": "code",
   "execution_count": 35,
   "metadata": {
    "slideshow": {
     "slide_type": "-"
    }
   },
   "outputs": [
    {
     "data": {
      "text/html": [
       "<dl class=dl-horizontal>\n",
       "\t<dt>1</dt>\n",
       "\t\t<dd>355763</dd>\n",
       "\t<dt>excellent</dt>\n",
       "\t\t<dd>333869</dd>\n",
       "\t<dt>fair</dt>\n",
       "\t\t<dd>43406</dd>\n",
       "\t<dt>good</dt>\n",
       "\t\t<dd>273447</dd>\n",
       "\t<dt>like new</dt>\n",
       "\t\t<dd>73208</dd>\n",
       "\t<dt>new</dt>\n",
       "\t\t<dd>3495</dd>\n",
       "\t<dt>salvage</dt>\n",
       "\t\t<dd>3095</dd>\n",
       "</dl>\n"
      ],
      "text/latex": [
       "\\begin{description*}\n",
       "\\item[1] 355763\n",
       "\\item[excellent] 333869\n",
       "\\item[fair] 43406\n",
       "\\item[good] 273447\n",
       "\\item[like new] 73208\n",
       "\\item[new] 3495\n",
       "\\item[salvage] 3095\n",
       "\\end{description*}\n"
      ],
      "text/markdown": [
       "1\n",
       ":   355763excellent\n",
       ":   333869fair\n",
       ":   43406good\n",
       ":   273447like new\n",
       ":   73208new\n",
       ":   3495salvage\n",
       ":   3095\n",
       "\n"
      ],
      "text/plain": [
       "          excellent      fair      good  like new       new   salvage \n",
       "   355763    333869     43406    273447     73208      3495      3095 "
      ]
     },
     "metadata": {},
     "output_type": "display_data"
    }
   ],
   "source": [
    "summary(Cars$condition)"
   ]
  },
  {
   "cell_type": "markdown",
   "metadata": {
    "slideshow": {
     "slide_type": "-"
    }
   },
   "source": [
    "As for the conditions of the car we see the first really interesting categorical variable. Just by the look of the distribution we can foresee a possible relationship between conditions and prices.\n",
    "\n",
    "In addition to that I've decided not to ignore the fact taht almost a third of cars didn't have a condition in their description. This could be of some importance since we are evaluating what determines the price of the car on a e-commerce website"
   ]
  },
  {
   "cell_type": "code",
   "execution_count": 36,
   "metadata": {
    "slideshow": {
     "slide_type": "skip"
    }
   },
   "outputs": [
    {
     "data": {
      "image/png": "[encoded data removed]",
      "text/plain": [
       "plot without title"
      ]
     },
     "metadata": {},
     "output_type": "display_data"
    }
   ],
   "source": [
    "plot(Cars$condition)"
   ]
  },
  {
   "cell_type": "code",
   "execution_count": 37,
   "metadata": {
    "slideshow": {
     "slide_type": "slide"
    }
   },
   "outputs": [
    {
     "data": {
      "image/png": "[encoded data removed]",
      "text/plain": [
       "plot without title"
      ]
     },
     "metadata": {},
     "output_type": "display_data"
    }
   ],
   "source": [
    "bwplot(Cars$price~Cars$condition)"
   ]
  },
  {
   "cell_type": "markdown",
   "metadata": {
    "slideshow": {
     "slide_type": "-"
    }
   },
   "source": [
    "As expected the cars in better conditions show a greater mean in prices"
   ]
  },
  {
   "cell_type": "markdown",
   "metadata": {
    "slideshow": {
     "slide_type": "skip"
    }
   },
   "source": [
    "#### Cylinders"
   ]
  },
  {
   "cell_type": "code",
   "execution_count": 38,
   "metadata": {
    "slideshow": {
     "slide_type": "skip"
    }
   },
   "outputs": [
    {
     "data": {
      "text/html": [
       "<dl class=dl-horizontal>\n",
       "\t<dt>1</dt>\n",
       "\t\t<dd>312616</dd>\n",
       "\t<dt>10 cylinders</dt>\n",
       "\t\t<dd>4811</dd>\n",
       "\t<dt>12 cylinders</dt>\n",
       "\t\t<dd>490</dd>\n",
       "\t<dt>3 cylinders</dt>\n",
       "\t\t<dd>1206</dd>\n",
       "\t<dt>4 cylinders</dt>\n",
       "\t\t<dd>226017</dd>\n",
       "\t<dt>5 cylinders</dt>\n",
       "\t\t<dd>8320</dd>\n",
       "\t<dt>6 cylinders</dt>\n",
       "\t\t<dd>275136</dd>\n",
       "\t<dt>8 cylinders</dt>\n",
       "\t\t<dd>225716</dd>\n",
       "\t<dt>other</dt>\n",
       "\t\t<dd>31971</dd>\n",
       "</dl>\n"
      ],
      "text/latex": [
       "\\begin{description*}\n",
       "\\item[1] 312616\n",
       "\\item[10 cylinders] 4811\n",
       "\\item[12 cylinders] 490\n",
       "\\item[3 cylinders] 1206\n",
       "\\item[4 cylinders] 226017\n",
       "\\item[5 cylinders] 8320\n",
       "\\item[6 cylinders] 275136\n",
       "\\item[8 cylinders] 225716\n",
       "\\item[other] 31971\n",
       "\\end{description*}\n"
      ],
      "text/markdown": [
       "1\n",
       ":   31261610 cylinders\n",
       ":   481112 cylinders\n",
       ":   4903 cylinders\n",
       ":   12064 cylinders\n",
       ":   2260175 cylinders\n",
       ":   83206 cylinders\n",
       ":   2751368 cylinders\n",
       ":   225716other\n",
       ":   31971\n",
       "\n"
      ],
      "text/plain": [
       "             10 cylinders 12 cylinders  3 cylinders  4 cylinders  5 cylinders \n",
       "      312616         4811          490         1206       226017         8320 \n",
       " 6 cylinders  8 cylinders        other \n",
       "      275136       225716        31971 "
      ]
     },
     "metadata": {},
     "output_type": "display_data"
    }
   ],
   "source": [
    "summary(Cars$cylinders)"
   ]
  },
  {
   "cell_type": "code",
   "execution_count": 39,
   "metadata": {
    "slideshow": {
     "slide_type": "skip"
    }
   },
   "outputs": [
    {
     "data": {
      "image/png": "[encoded data removed]",
      "text/plain": [
       "plot without title"
      ]
     },
     "metadata": {},
     "output_type": "display_data"
    }
   ],
   "source": [
    "plot(Cars$cylinders)"
   ]
  },
  {
   "cell_type": "code",
   "execution_count": 40,
   "metadata": {
    "slideshow": {
     "slide_type": "skip"
    }
   },
   "outputs": [
    {
     "data": {
      "image/png": "[encoded data removed]",
      "text/plain": [
       "plot without title"
      ]
     },
     "metadata": {},
     "output_type": "display_data"
    }
   ],
   "source": [
    "bwplot(Cars$price~Cars$cylinders, scales=list(y=list(rot=45), x=list(rot=45)))"
   ]
  },
  {
   "cell_type": "markdown",
   "metadata": {
    "slideshow": {
     "slide_type": "skip"
    }
   },
   "source": [
    "While it seems that Cars with 12 cylinders have an average higher price, what is really interesting here is the anomalous behaviour of the 10 cylinders cars. The other categories follow a pretty simple relationship of more cylinders equal greater price."
   ]
  },
  {
   "cell_type": "markdown",
   "metadata": {
    "slideshow": {
     "slide_type": "skip"
    }
   },
   "source": [
    "#### Fuel"
   ]
  },
  {
   "cell_type": "code",
   "execution_count": 41,
   "metadata": {
    "slideshow": {
     "slide_type": "skip"
    }
   },
   "outputs": [
    {
     "data": {
      "text/html": [
       "<dl class=dl-horizontal>\n",
       "\t<dt>1</dt>\n",
       "\t\t<dd>8300</dd>\n",
       "\t<dt>diesel</dt>\n",
       "\t\t<dd>68376</dd>\n",
       "\t<dt>electric</dt>\n",
       "\t\t<dd>1237</dd>\n",
       "\t<dt>gas</dt>\n",
       "\t\t<dd>964805</dd>\n",
       "\t<dt>hybrid</dt>\n",
       "\t\t<dd>8189</dd>\n",
       "\t<dt>other</dt>\n",
       "\t\t<dd>35376</dd>\n",
       "</dl>\n"
      ],
      "text/latex": [
       "\\begin{description*}\n",
       "\\item[1] 8300\n",
       "\\item[diesel] 68376\n",
       "\\item[electric] 1237\n",
       "\\item[gas] 964805\n",
       "\\item[hybrid] 8189\n",
       "\\item[other] 35376\n",
       "\\end{description*}\n"
      ],
      "text/markdown": [
       "1\n",
       ":   8300diesel\n",
       ":   68376electric\n",
       ":   1237gas\n",
       ":   964805hybrid\n",
       ":   8189other\n",
       ":   35376\n",
       "\n"
      ],
      "text/plain": [
       "           diesel electric      gas   hybrid    other \n",
       "    8300    68376     1237   964805     8189    35376 "
      ]
     },
     "metadata": {},
     "output_type": "display_data"
    }
   ],
   "source": [
    "summary(Cars$fuel)"
   ]
  },
  {
   "cell_type": "markdown",
   "metadata": {
    "slideshow": {
     "slide_type": "skip"
    }
   },
   "source": [
    "Clearly gas and diesel care are the most common around and the dataset behaves accordingly"
   ]
  },
  {
   "cell_type": "code",
   "execution_count": 42,
   "metadata": {
    "slideshow": {
     "slide_type": "skip"
    }
   },
   "outputs": [
    {
     "data": {
      "image/png": "[encoded data removed]",
      "text/plain": [
       "plot without title"
      ]
     },
     "metadata": {},
     "output_type": "display_data"
    }
   ],
   "source": [
    "plot(Cars$fuel)"
   ]
  },
  {
   "cell_type": "code",
   "execution_count": 43,
   "metadata": {
    "slideshow": {
     "slide_type": "skip"
    }
   },
   "outputs": [
    {
     "data": {
      "image/png": "[encoded data removed]",
      "text/plain": [
       "plot without title"
      ]
     },
     "metadata": {},
     "output_type": "display_data"
    }
   ],
   "source": [
    "bwplot(Cars$price~Cars$fuel)"
   ]
  },
  {
   "cell_type": "markdown",
   "metadata": {
    "slideshow": {
     "slide_type": "skip"
    }
   },
   "source": [
    "Gas cars are both the most common and the cheapest on the market, while electric cars seems to have an average cost a bit higher then the other categories"
   ]
  },
  {
   "cell_type": "markdown",
   "metadata": {
    "slideshow": {
     "slide_type": "slide"
    }
   },
   "source": [
    "#### Odometer"
   ]
  },
  {
   "cell_type": "code",
   "execution_count": 44,
   "metadata": {
    "slideshow": {
     "slide_type": "-"
    }
   },
   "outputs": [
    {
     "data": {
      "text/plain": [
       "   Min. 1st Qu.  Median    Mean 3rd Qu.    Max. \n",
       "      0   60000  107502  108469  151000  296078 "
      ]
     },
     "metadata": {},
     "output_type": "display_data"
    }
   ],
   "source": [
    "summary(Cars$odometer)"
   ]
  },
  {
   "cell_type": "markdown",
   "metadata": {
    "slideshow": {
     "slide_type": "-"
    }
   },
   "source": [
    "Odometer is surely both an interesting and simple variable since we'd expect to have a negative correlation between the number of miles run and the price of the car"
   ]
  },
  {
   "cell_type": "code",
   "execution_count": 45,
   "metadata": {
    "scrolled": false,
    "slideshow": {
     "slide_type": "skip"
    }
   },
   "outputs": [
    {
     "data": {
      "image/png": "[encoded data removed]",
      "text/plain": [
       "Plot with title \"density.default(x = Cars$odometer)\""
      ]
     },
     "metadata": {},
     "output_type": "display_data"
    }
   ],
   "source": [
    "dens <- density(Cars$odometer)\n",
    "plot(dens,xlim=c(0,250000))\n",
    "abline(v=mean(Cars$odometer))"
   ]
  },
  {
   "cell_type": "code",
   "execution_count": 46,
   "metadata": {
    "slideshow": {
     "slide_type": "skip"
    }
   },
   "outputs": [
    {
     "data": {
      "image/png": "[encoded data removed]",
      "text/plain": [
       "plot without title"
      ]
     },
     "metadata": {},
     "output_type": "display_data"
    }
   ],
   "source": [
    "plot(Cars[c(1:1000),]$price~Cars[c(1:1000),]$odometer)"
   ]
  },
  {
   "cell_type": "code",
   "execution_count": 47,
   "metadata": {
    "slideshow": {
     "slide_type": "slide"
    }
   },
   "outputs": [
    {
     "data": {
      "image/png": "[encoded data removed]",
      "text/plain": [
       "plot without title"
      ]
     },
     "metadata": {},
     "output_type": "display_data"
    }
   ],
   "source": [
    "bwplot(Cars$price~cut(Cars$odometer, breaks = seq(0,250000,by=25000)), scales=list(y=list(rot=45), x=list(rot=45)),panel = function(..., box.ratio) {\n",
    " panel.violin(..., col = \"lightblue\",\n",
    " varwidth = FALSE, box.ratio = box.ratio)\n",
    " panel.bwplot(..., col='black',\n",
    " cex=0.8, pch='|', fill='gray', box.ratio = .1)\n",
    " })"
   ]
  },
  {
   "cell_type": "code",
   "execution_count": 48,
   "metadata": {
    "scrolled": true,
    "slideshow": {
     "slide_type": "-"
    }
   },
   "outputs": [
    {
     "data": {
      "text/html": [
       "-0.477865383332237"
      ],
      "text/latex": [
       "-0.477865383332237"
      ],
      "text/markdown": [
       "-0.477865383332237"
      ],
      "text/plain": [
       "[1] -0.4778654"
      ]
     },
     "metadata": {},
     "output_type": "display_data"
    }
   ],
   "source": [
    "cor(Cars$price,Cars$odometer)"
   ]
  },
  {
   "cell_type": "markdown",
   "metadata": {
    "slideshow": {
     "slide_type": "skip"
    }
   },
   "source": [
    "#### Title Status"
   ]
  },
  {
   "cell_type": "code",
   "execution_count": 49,
   "metadata": {
    "slideshow": {
     "slide_type": "skip"
    }
   },
   "outputs": [
    {
     "data": {
      "text/html": [
       "<dl class=dl-horizontal>\n",
       "\t<dt>1</dt>\n",
       "\t\t<dd>1225</dd>\n",
       "\t<dt>clean</dt>\n",
       "\t\t<dd>1018046</dd>\n",
       "\t<dt>lien</dt>\n",
       "\t\t<dd>14605</dd>\n",
       "\t<dt>missing</dt>\n",
       "\t\t<dd>2111</dd>\n",
       "\t<dt>parts only</dt>\n",
       "\t\t<dd>871</dd>\n",
       "\t<dt>rebuilt</dt>\n",
       "\t\t<dd>30900</dd>\n",
       "\t<dt>salvage</dt>\n",
       "\t\t<dd>18525</dd>\n",
       "</dl>\n"
      ],
      "text/latex": [
       "\\begin{description*}\n",
       "\\item[1] 1225\n",
       "\\item[clean] 1018046\n",
       "\\item[lien] 14605\n",
       "\\item[missing] 2111\n",
       "\\item[parts only] 871\n",
       "\\item[rebuilt] 30900\n",
       "\\item[salvage] 18525\n",
       "\\end{description*}\n"
      ],
      "text/markdown": [
       "1\n",
       ":   1225clean\n",
       ":   1018046lien\n",
       ":   14605missing\n",
       ":   2111parts only\n",
       ":   871rebuilt\n",
       ":   30900salvage\n",
       ":   18525\n",
       "\n"
      ],
      "text/plain": [
       "                clean       lien    missing parts only    rebuilt    salvage \n",
       "      1225    1018046      14605       2111        871      30900      18525 "
      ]
     },
     "metadata": {},
     "output_type": "display_data"
    }
   ],
   "source": [
    "summary(Cars$title_status)"
   ]
  },
  {
   "cell_type": "code",
   "execution_count": 50,
   "metadata": {
    "slideshow": {
     "slide_type": "skip"
    }
   },
   "outputs": [
    {
     "data": {
      "image/png": "[encoded data removed]",
      "text/plain": [
       "plot without title"
      ]
     },
     "metadata": {},
     "output_type": "display_data"
    }
   ],
   "source": [
    "plot(Cars$title_status)"
   ]
  },
  {
   "cell_type": "code",
   "execution_count": 51,
   "metadata": {
    "slideshow": {
     "slide_type": "skip"
    }
   },
   "outputs": [
    {
     "data": {
      "image/png": "[encoded data removed]",
      "text/plain": [
       "plot without title"
      ]
     },
     "metadata": {},
     "output_type": "display_data"
    }
   ],
   "source": [
    "bwplot(Cars$price~Cars$title_status, scales=list(y=list(rot=45), x=list(rot=45)))"
   ]
  },
  {
   "cell_type": "markdown",
   "metadata": {
    "slideshow": {
     "slide_type": "-"
    }
   },
   "source": [
    "Cars with missing parts or only parts have quite a drop in the mean with respect to the other groups. On the other side lien cars seems to be the ones with the highest prices."
   ]
  },
  {
   "cell_type": "markdown",
   "metadata": {
    "slideshow": {
     "slide_type": "skip"
    }
   },
   "source": [
    "#### Transmission"
   ]
  },
  {
   "cell_type": "code",
   "execution_count": 52,
   "metadata": {
    "slideshow": {
     "slide_type": "skip"
    }
   },
   "outputs": [
    {
     "data": {
      "text/html": [
       "<dl class=dl-horizontal>\n",
       "\t<dt>1</dt>\n",
       "\t\t<dd>6899</dd>\n",
       "\t<dt>automatic</dt>\n",
       "\t\t<dd>955789</dd>\n",
       "\t<dt>manual</dt>\n",
       "\t\t<dd>102142</dd>\n",
       "\t<dt>other</dt>\n",
       "\t\t<dd>21453</dd>\n",
       "</dl>\n"
      ],
      "text/latex": [
       "\\begin{description*}\n",
       "\\item[1] 6899\n",
       "\\item[automatic] 955789\n",
       "\\item[manual] 102142\n",
       "\\item[other] 21453\n",
       "\\end{description*}\n"
      ],
      "text/markdown": [
       "1\n",
       ":   6899automatic\n",
       ":   955789manual\n",
       ":   102142other\n",
       ":   21453\n",
       "\n"
      ],
      "text/plain": [
       "          automatic    manual     other \n",
       "     6899    955789    102142     21453 "
      ]
     },
     "metadata": {},
     "output_type": "display_data"
    }
   ],
   "source": [
    "summary(Cars$transmission)"
   ]
  },
  {
   "cell_type": "code",
   "execution_count": 53,
   "metadata": {
    "slideshow": {
     "slide_type": "skip"
    }
   },
   "outputs": [
    {
     "data": {
      "image/png": "[encoded data removed]",
      "text/plain": [
       "plot without title"
      ]
     },
     "metadata": {},
     "output_type": "display_data"
    }
   ],
   "source": [
    "plot(Cars$transmission)"
   ]
  },
  {
   "cell_type": "code",
   "execution_count": 54,
   "metadata": {
    "slideshow": {
     "slide_type": "skip"
    }
   },
   "outputs": [
    {
     "data": {
      "image/png": "[encoded data removed]",
      "text/plain": [
       "plot without title"
      ]
     },
     "metadata": {},
     "output_type": "display_data"
    }
   ],
   "source": [
    "bwplot(Cars$price~Cars$transmission)"
   ]
  },
  {
   "cell_type": "markdown",
   "metadata": {
    "slideshow": {
     "slide_type": "skip"
    }
   },
   "source": [
    "Both automatic and manual cars seems to be the most common, even though there is a large amount of unlabeled cars and other types of transmissions."
   ]
  },
  {
   "cell_type": "markdown",
   "metadata": {
    "slideshow": {
     "slide_type": "slide"
    }
   },
   "source": [
    "#### Drive"
   ]
  },
  {
   "cell_type": "code",
   "execution_count": 55,
   "metadata": {
    "slideshow": {
     "slide_type": "-"
    }
   },
   "outputs": [
    {
     "data": {
      "text/html": [
       "<dl class=dl-horizontal>\n",
       "\t<dt>1</dt>\n",
       "\t\t<dd>270055</dd>\n",
       "\t<dt>4wd</dt>\n",
       "\t\t<dd>345590</dd>\n",
       "\t<dt>fwd</dt>\n",
       "\t\t<dd>297921</dd>\n",
       "\t<dt>rwd</dt>\n",
       "\t\t<dd>172717</dd>\n",
       "</dl>\n"
      ],
      "text/latex": [
       "\\begin{description*}\n",
       "\\item[1] 270055\n",
       "\\item[4wd] 345590\n",
       "\\item[fwd] 297921\n",
       "\\item[rwd] 172717\n",
       "\\end{description*}\n"
      ],
      "text/markdown": [
       "1\n",
       ":   2700554wd\n",
       ":   345590fwd\n",
       ":   297921rwd\n",
       ":   172717\n",
       "\n"
      ],
      "text/plain": [
       "          4wd    fwd    rwd \n",
       "270055 345590 297921 172717 "
      ]
     },
     "metadata": {},
     "output_type": "display_data"
    }
   ],
   "source": [
    "summary(Cars$drive)"
   ]
  },
  {
   "cell_type": "code",
   "execution_count": 56,
   "metadata": {
    "slideshow": {
     "slide_type": "slide"
    }
   },
   "outputs": [
    {
     "data": {
      "image/png": "[encoded data removed]",
      "text/plain": [
       "plot without title"
      ]
     },
     "metadata": {},
     "output_type": "display_data"
    }
   ],
   "source": [
    "plot(Cars$drive)"
   ]
  },
  {
   "cell_type": "code",
   "execution_count": 57,
   "metadata": {
    "slideshow": {
     "slide_type": "slide"
    }
   },
   "outputs": [
    {
     "data": {
      "image/png": "[encoded data removed]",
      "text/plain": [
       "plot without title"
      ]
     },
     "metadata": {},
     "output_type": "display_data"
    }
   ],
   "source": [
    "bwplot(Cars$price~Cars$drive)"
   ]
  },
  {
   "cell_type": "markdown",
   "metadata": {
    "slideshow": {
     "slide_type": "-"
    }
   },
   "source": [
    "By analyzing the cost related to the type of drive an interesting behavior appears. Rear wheel drive cars cost more than forward wheel drive cars. If we make the assumption that rwd cars are in general older than fwd cars this goes againts the assumption we made earlier about the correlation between price and year. This may be due to the fact that rwd cars are considered vintage in most cases, therefore cost more."
   ]
  },
  {
   "cell_type": "code",
   "execution_count": 58,
   "metadata": {
    "slideshow": {
     "slide_type": "slide"
    }
   },
   "outputs": [
    {
     "data": {
      "image/png": "[encoded data removed]",
      "text/plain": [
       "plot without title"
      ]
     },
     "metadata": {},
     "output_type": "display_data"
    }
   ],
   "source": [
    "bwplot(drive~year, data=Cars[Cars$year>1980,])"
   ]
  },
  {
   "cell_type": "markdown",
   "metadata": {
    "slideshow": {
     "slide_type": "-"
    }
   },
   "source": [
    "This boxplot confirms our hypotesis that rwd cars are in general older than fwd cars."
   ]
  },
  {
   "cell_type": "markdown",
   "metadata": {
    "slideshow": {
     "slide_type": "skip"
    }
   },
   "source": [
    "#### Type"
   ]
  },
  {
   "cell_type": "code",
   "execution_count": 59,
   "metadata": {
    "slideshow": {
     "slide_type": "skip"
    }
   },
   "outputs": [
    {
     "data": {
      "text/html": [
       "<dl class=dl-horizontal>\n",
       "\t<dt>1</dt>\n",
       "\t\t<dd>281161</dd>\n",
       "\t<dt>bus</dt>\n",
       "\t\t<dd>1242</dd>\n",
       "\t<dt>convertible</dt>\n",
       "\t\t<dd>23171</dd>\n",
       "\t<dt>coupe</dt>\n",
       "\t\t<dd>52704</dd>\n",
       "\t<dt>hatchback</dt>\n",
       "\t\t<dd>30039</dd>\n",
       "\t<dt>mini-van</dt>\n",
       "\t\t<dd>19510</dd>\n",
       "\t<dt>offroad</dt>\n",
       "\t\t<dd>3081</dd>\n",
       "\t<dt>other</dt>\n",
       "\t\t<dd>17085</dd>\n",
       "\t<dt>pickup</dt>\n",
       "\t\t<dd>96839</dd>\n",
       "\t<dt>sedan</dt>\n",
       "\t\t<dd>221136</dd>\n",
       "\t<dt>SUV</dt>\n",
       "\t\t<dd>200476</dd>\n",
       "\t<dt>truck</dt>\n",
       "\t\t<dd>98465</dd>\n",
       "\t<dt>van</dt>\n",
       "\t\t<dd>19970</dd>\n",
       "\t<dt>wagon</dt>\n",
       "\t\t<dd>21404</dd>\n",
       "</dl>\n"
      ],
      "text/latex": [
       "\\begin{description*}\n",
       "\\item[1] 281161\n",
       "\\item[bus] 1242\n",
       "\\item[convertible] 23171\n",
       "\\item[coupe] 52704\n",
       "\\item[hatchback] 30039\n",
       "\\item[mini-van] 19510\n",
       "\\item[offroad] 3081\n",
       "\\item[other] 17085\n",
       "\\item[pickup] 96839\n",
       "\\item[sedan] 221136\n",
       "\\item[SUV] 200476\n",
       "\\item[truck] 98465\n",
       "\\item[van] 19970\n",
       "\\item[wagon] 21404\n",
       "\\end{description*}\n"
      ],
      "text/markdown": [
       "1\n",
       ":   281161bus\n",
       ":   1242convertible\n",
       ":   23171coupe\n",
       ":   52704hatchback\n",
       ":   30039mini-van\n",
       ":   19510offroad\n",
       ":   3081other\n",
       ":   17085pickup\n",
       ":   96839sedan\n",
       ":   221136SUV\n",
       ":   200476truck\n",
       ":   98465van\n",
       ":   19970wagon\n",
       ":   21404\n",
       "\n"
      ],
      "text/plain": [
       "                    bus convertible       coupe   hatchback    mini-van \n",
       "     281161        1242       23171       52704       30039       19510 \n",
       "    offroad       other      pickup       sedan         SUV       truck \n",
       "       3081       17085       96839      221136      200476       98465 \n",
       "        van       wagon \n",
       "      19970       21404 "
      ]
     },
     "metadata": {},
     "output_type": "display_data"
    }
   ],
   "source": [
    "summary(Cars$type)"
   ]
  },
  {
   "cell_type": "code",
   "execution_count": 60,
   "metadata": {
    "slideshow": {
     "slide_type": "skip"
    }
   },
   "outputs": [
    {
     "data": {
      "image/png": "[encoded data removed]",
      "text/plain": [
       "plot without title"
      ]
     },
     "metadata": {},
     "output_type": "display_data"
    }
   ],
   "source": [
    "plot(Cars$type)"
   ]
  },
  {
   "cell_type": "code",
   "execution_count": 61,
   "metadata": {
    "slideshow": {
     "slide_type": "skip"
    }
   },
   "outputs": [
    {
     "data": {
      "image/png": "[encoded data removed]",
      "text/plain": [
       "plot without title"
      ]
     },
     "metadata": {},
     "output_type": "display_data"
    }
   ],
   "source": [
    "bwplot(Cars$price~Cars$type, scales=list(y=list(rot=45), x=list(rot=45)))"
   ]
  },
  {
   "cell_type": "raw",
   "metadata": {
    "slideshow": {
     "slide_type": "skip"
    }
   },
   "source": [
    "All types of veicles sold seems to cost the same on average with an exception for pickups and trucks."
   ]
  },
  {
   "cell_type": "markdown",
   "metadata": {
    "slideshow": {
     "slide_type": "skip"
    }
   },
   "source": [
    "#### Paint Color"
   ]
  },
  {
   "cell_type": "code",
   "execution_count": 62,
   "metadata": {
    "slideshow": {
     "slide_type": "skip"
    }
   },
   "outputs": [
    {
     "data": {
      "text/html": [
       "<dl class=dl-horizontal>\n",
       "\t<dt>1</dt>\n",
       "\t\t<dd>293237</dd>\n",
       "\t<dt>black</dt>\n",
       "\t\t<dd>155817</dd>\n",
       "\t<dt>blue</dt>\n",
       "\t\t<dd>88775</dd>\n",
       "\t<dt>brown</dt>\n",
       "\t\t<dd>20132</dd>\n",
       "\t<dt>custom</dt>\n",
       "\t\t<dd>20001</dd>\n",
       "\t<dt>green</dt>\n",
       "\t\t<dd>30578</dd>\n",
       "\t<dt>grey</dt>\n",
       "\t\t<dd>78172</dd>\n",
       "\t<dt>orange</dt>\n",
       "\t\t<dd>4958</dd>\n",
       "\t<dt>purple</dt>\n",
       "\t\t<dd>2694</dd>\n",
       "\t<dt>red</dt>\n",
       "\t\t<dd>87990</dd>\n",
       "\t<dt>silver</dt>\n",
       "\t\t<dd>120841</dd>\n",
       "\t<dt>white</dt>\n",
       "\t\t<dd>175667</dd>\n",
       "\t<dt>yellow</dt>\n",
       "\t\t<dd>7421</dd>\n",
       "</dl>\n"
      ],
      "text/latex": [
       "\\begin{description*}\n",
       "\\item[1] 293237\n",
       "\\item[black] 155817\n",
       "\\item[blue] 88775\n",
       "\\item[brown] 20132\n",
       "\\item[custom] 20001\n",
       "\\item[green] 30578\n",
       "\\item[grey] 78172\n",
       "\\item[orange] 4958\n",
       "\\item[purple] 2694\n",
       "\\item[red] 87990\n",
       "\\item[silver] 120841\n",
       "\\item[white] 175667\n",
       "\\item[yellow] 7421\n",
       "\\end{description*}\n"
      ],
      "text/markdown": [
       "1\n",
       ":   293237black\n",
       ":   155817blue\n",
       ":   88775brown\n",
       ":   20132custom\n",
       ":   20001green\n",
       ":   30578grey\n",
       ":   78172orange\n",
       ":   4958purple\n",
       ":   2694red\n",
       ":   87990silver\n",
       ":   120841white\n",
       ":   175667yellow\n",
       ":   7421\n",
       "\n"
      ],
      "text/plain": [
       "        black   blue  brown custom  green   grey orange purple    red silver \n",
       "293237 155817  88775  20132  20001  30578  78172   4958   2694  87990 120841 \n",
       " white yellow \n",
       "175667   7421 "
      ]
     },
     "metadata": {},
     "output_type": "display_data"
    }
   ],
   "source": [
    "summary(Cars$paint_color)"
   ]
  },
  {
   "cell_type": "code",
   "execution_count": 63,
   "metadata": {
    "slideshow": {
     "slide_type": "skip"
    }
   },
   "outputs": [
    {
     "data": {
      "image/png": "[encoded data removed]",
      "text/plain": [
       "plot without title"
      ]
     },
     "metadata": {},
     "output_type": "display_data"
    }
   ],
   "source": [
    "plot(Cars$paint_color)"
   ]
  },
  {
   "cell_type": "code",
   "execution_count": 64,
   "metadata": {
    "slideshow": {
     "slide_type": "skip"
    }
   },
   "outputs": [
    {
     "data": {
      "image/png": "[encoded data removed]",
      "text/plain": [
       "plot without title"
      ]
     },
     "metadata": {},
     "output_type": "display_data"
    }
   ],
   "source": [
    "bwplot(Cars$price~Cars$paint_color, scales=list(y=list(rot=45), x=list(rot=45)))"
   ]
  },
  {
   "cell_type": "markdown",
   "metadata": {
    "slideshow": {
     "slide_type": "skip"
    }
   },
   "source": [
    "With the previous plots we can se an overall majority of the classic colors (white, black, silver, grey), while the highest prices seems to belong to the orange color, maybe for his rarity."
   ]
  },
  {
   "cell_type": "markdown",
   "metadata": {
    "slideshow": {
     "slide_type": "skip"
    }
   },
   "source": [
    "#### Weather"
   ]
  },
  {
   "cell_type": "code",
   "execution_count": 65,
   "metadata": {
    "slideshow": {
     "slide_type": "skip"
    }
   },
   "outputs": [
    {
     "data": {
      "text/plain": [
       "   Min. 1st Qu.  Median    Mean 3rd Qu.    Max. \n",
       "  29.00   48.00   53.00   53.41   59.00   79.00 "
      ]
     },
     "metadata": {},
     "output_type": "display_data"
    }
   ],
   "source": [
    "summary(Cars$weather)"
   ]
  },
  {
   "cell_type": "code",
   "execution_count": 66,
   "metadata": {
    "scrolled": false,
    "slideshow": {
     "slide_type": "skip"
    }
   },
   "outputs": [
    {
     "data": {
      "image/png": "[encoded data removed]",
      "text/plain": [
       "Plot with title \"density.default(x = Cars$weather)\""
      ]
     },
     "metadata": {},
     "output_type": "display_data"
    }
   ],
   "source": [
    "den <- density(Cars$weather)\n",
    "plot(den)"
   ]
  },
  {
   "cell_type": "code",
   "execution_count": 67,
   "metadata": {
    "slideshow": {
     "slide_type": "skip"
    }
   },
   "outputs": [
    {
     "data": {
      "image/png": "[encoded data removed]",
      "text/plain": [
       "plot without title"
      ]
     },
     "metadata": {},
     "output_type": "display_data"
    }
   ],
   "source": [
    "plot(Cars[c(1:1000),]$price~Cars[c(1:1000),]$weather)"
   ]
  },
  {
   "cell_type": "code",
   "execution_count": 68,
   "metadata": {
    "slideshow": {
     "slide_type": "skip"
    }
   },
   "outputs": [
    {
     "data": {
      "image/png": "[encoded data removed]",
      "text/plain": [
       "plot without title"
      ]
     },
     "metadata": {},
     "output_type": "display_data"
    }
   ],
   "source": [
    "bwplot(Cars$price~cut(Cars$weather, breaks = seq(20,75,by=5)), scales=list(y=list(rot=45), x=list(rot=45)),panel = function(..., box.ratio) {\n",
    " panel.violin(..., col = \"lightblue\",\n",
    " varwidth = FALSE, box.ratio = box.ratio)\n",
    " panel.bwplot(..., col='black',\n",
    " cex=0.8, pch='|', fill='gray', box.ratio = .1)\n",
    " })"
   ]
  },
  {
   "cell_type": "code",
   "execution_count": 69,
   "metadata": {
    "slideshow": {
     "slide_type": "skip"
    }
   },
   "outputs": [
    {
     "data": {
      "text/html": [
       "-0.013630340130544"
      ],
      "text/latex": [
       "-0.013630340130544"
      ],
      "text/markdown": [
       "-0.013630340130544"
      ],
      "text/plain": [
       "[1] -0.01363034"
      ]
     },
     "metadata": {},
     "output_type": "display_data"
    }
   ],
   "source": [
    "cor(Cars$price,Cars$weather)"
   ]
  },
  {
   "cell_type": "markdown",
   "metadata": {
    "slideshow": {
     "slide_type": "skip"
    }
   },
   "source": [
    "Weather was the variable for which I had the highest hopes in seing some interesting behaviours, but in the end it came to be one of the least meaningful conditions when it comes to car prices"
   ]
  },
  {
   "cell_type": "markdown",
   "metadata": {
    "slideshow": {
     "slide_type": "slide"
    }
   },
   "source": [
    "## Model Data"
   ]
  },
  {
   "cell_type": "markdown",
   "metadata": {
    "slideshow": {
     "slide_type": "skip"
    }
   },
   "source": [
    "### Subsetting"
   ]
  },
  {
   "cell_type": "code",
   "execution_count": 70,
   "metadata": {
    "slideshow": {
     "slide_type": "skip"
    }
   },
   "outputs": [],
   "source": [
    "set.seed(123)\n",
    "test_ind <- sample(seq_len(nrow(Cars)), size = 500000)\n",
    "validate_ind <- sample(seq_len(nrow(Cars)), size = 50000)\n",
    "Cars.temp <- Cars\n",
    "numsC <- unlist(lapply(Cars, is.numeric))\n",
    "Cars.temp[,numsC] <- apply(Cars[,numsC],2,scale)\n",
    "Test <- Cars[test_ind,]\n",
    "numsT <- unlist(lapply(Test, is.numeric))\n",
    "Test[,numsT] <- apply(Test[,numsT],2,scale)\n",
    "Validate <- Cars[validate_ind,]\n",
    "numsV <- unlist(lapply(Validate, is.numeric))\n",
    "Validate[,numsV] <- apply(Validate[,numsV],2,scale)"
   ]
  },
  {
   "cell_type": "markdown",
   "metadata": {
    "slideshow": {
     "slide_type": "skip"
    }
   },
   "source": [
    "### Analysis of regressors"
   ]
  },
  {
   "cell_type": "markdown",
   "metadata": {
    "slideshow": {
     "slide_type": "skip"
    }
   },
   "source": [
    "Since we have quite a few regressors we can already watch how they behave singularly in order to remove the less influential ones and get a lighter model to begin with"
   ]
  },
  {
   "cell_type": "markdown",
   "metadata": {
    "slideshow": {
     "slide_type": "slide"
    }
   },
   "source": [
    "#### Year"
   ]
  },
  {
   "cell_type": "code",
   "execution_count": 71,
   "metadata": {
    "scrolled": false,
    "slideshow": {
     "slide_type": "-"
    }
   },
   "outputs": [
    {
     "data": {
      "image/png": "[encoded data removed]",
      "text/plain": [
       "plot without title"
      ]
     },
     "metadata": {},
     "output_type": "display_data"
    }
   ],
   "source": [
    "MSE <- c()\n",
    "for(i in 1:10){\n",
    "  lm.fit <- lm(price~poly(year, degree=i), data=Test)\n",
    "  y.pred <- predict(lm.fit, newdata=Validate)\n",
    "  mse <- mean((Validate$price-y.pred)^2)\n",
    "  MSE <-  c(MSE, mse)\n",
    "}\n",
    "plot(1:10,MSE,type=\"l\")"
   ]
  },
  {
   "cell_type": "code",
   "execution_count": 72,
   "metadata": {
    "slideshow": {
     "slide_type": "skip"
    }
   },
   "outputs": [],
   "source": [
    "mod.out.lin <- lm(price~year,data=Test)"
   ]
  },
  {
   "cell_type": "code",
   "execution_count": 73,
   "metadata": {
    "slideshow": {
     "slide_type": "skip"
    }
   },
   "outputs": [
    {
     "data": {
      "text/plain": [
       "\n",
       "Call:\n",
       "lm(formula = price ~ poly(year, 4), data = Test)\n",
       "\n",
       "Residuals:\n",
       "    Min      1Q  Median      3Q     Max \n",
       "-4.0473 -0.4322 -0.1625  0.3018  4.8200 \n",
       "\n",
       "Coefficients:\n",
       "                 Estimate Std. Error t value Pr(>|t|)    \n",
       "(Intercept)    -3.596e-16  1.069e-03    0.00        1    \n",
       "poly(year, 4)1  2.851e+02  7.558e-01  377.23   <2e-16 ***\n",
       "poly(year, 4)2  3.142e+02  7.558e-01  415.75   <2e-16 ***\n",
       "poly(year, 4)3  1.758e+02  7.558e-01  232.57   <2e-16 ***\n",
       "poly(year, 4)4  5.923e+01  7.558e-01   78.38   <2e-16 ***\n",
       "---\n",
       "Signif. codes:  0 '***' 0.001 '**' 0.01 '*' 0.05 '.' 0.1 ' ' 1\n",
       "\n",
       "Residual standard error: 0.7558 on 499995 degrees of freedom\n",
       "Multiple R-squared:  0.4288,\tAdjusted R-squared:  0.4288 \n",
       "F-statistic: 9.385e+04 on 4 and 499995 DF,  p-value: < 2.2e-16\n"
      ]
     },
     "metadata": {},
     "output_type": "display_data"
    }
   ],
   "source": [
    "mod.out <- lm(price~poly(year,4),data=Test)\n",
    "summary(mod.out)"
   ]
  },
  {
   "cell_type": "code",
   "execution_count": 74,
   "metadata": {
    "slideshow": {
     "slide_type": "skip"
    }
   },
   "outputs": [
    {
     "data": {
      "image/png": "[encoded data removed]",
      "text/plain": [
       "plot without title"
      ]
     },
     "metadata": {},
     "output_type": "display_data"
    }
   ],
   "source": [
    "plot(fitted(mod.out)[c(1:10000)],residuals(mod.out)[c(1:10000)],xlab='fitted',ylab='residuals')\n",
    "lines(loess.smooth(fitted(mod.out),residuals(mod.out)),col='red')\n",
    "lines(loess.smooth(fitted(mod.out.lin),residuals(mod.out.lin)),col='cyan')\n",
    "abline(h=0,lty=2)"
   ]
  },
  {
   "cell_type": "markdown",
   "metadata": {
    "slideshow": {
     "slide_type": "skip"
    }
   },
   "source": [
    "#### Manufacturer"
   ]
  },
  {
   "cell_type": "code",
   "execution_count": 75,
   "metadata": {
    "scrolled": true,
    "slideshow": {
     "slide_type": "skip"
    }
   },
   "outputs": [
    {
     "data": {
      "text/plain": [
       "\n",
       "Call:\n",
       "lm(formula = price ~ manufacturer, data = Test)\n",
       "\n",
       "Residuals:\n",
       "    Min      1Q  Median      3Q     Max \n",
       "-3.7675 -0.6774 -0.2304  0.4744  4.6221 \n",
       "\n",
       "Coefficients:\n",
       "                             Estimate Std. Error t value Pr(>|t|)    \n",
       "(Intercept)                 -0.175213   0.006017 -29.118  < 2e-16 ***\n",
       "manufactureracura           -0.105126   0.014825  -7.091 1.33e-12 ***\n",
       "manufactureralfa            -0.149588   0.254758  -0.587 0.557085    \n",
       "manufactureralfa-romeo       0.213382   0.161191   1.324 0.185574    \n",
       "manufactureraston            2.768870   0.301410   9.186  < 2e-16 ***\n",
       "manufactureraston-martin     2.749184   0.246125  11.170  < 2e-16 ***\n",
       "manufactureraudi             0.224517   0.015272  14.701  < 2e-16 ***\n",
       "manufacturerbmw              0.223973   0.010117  22.139  < 2e-16 ***\n",
       "manufacturerbuick           -0.179384   0.012898 -13.908  < 2e-16 ***\n",
       "manufacturercadillac         0.146665   0.012545  11.691  < 2e-16 ***\n",
       "manufacturerchev            -0.150722   0.075344  -2.000 0.045451 *  \n",
       "manufacturerchevrolet        0.325102   0.007097  45.807  < 2e-16 ***\n",
       "manufacturerchevy           -0.156122   0.011771 -13.263  < 2e-16 ***\n",
       "manufacturerchrysler        -0.199867   0.011332 -17.638  < 2e-16 ***\n",
       "manufacturerdatsun          -0.164387   0.099534  -1.652 0.098624 .  \n",
       "manufacturerdodge            0.034445   0.008870   3.883 0.000103 ***\n",
       "manufacturerferrari          1.830162   0.287389   6.368 1.91e-10 ***\n",
       "manufacturerfiat            -0.111027   0.041561  -2.671 0.007553 ** \n",
       "manufacturerford             0.325103   0.006836  47.557  < 2e-16 ***\n",
       "manufacturergmc              0.593756   0.008922  66.553  < 2e-16 ***\n",
       "manufacturerharley           0.193733   0.125273   1.546 0.121989    \n",
       "manufacturerharley-davidson  0.374353   0.072493   5.164 2.42e-07 ***\n",
       "manufacturerhonda           -0.172540   0.008383 -20.583  < 2e-16 ***\n",
       "manufacturerhyundai         -0.096665   0.010893  -8.874  < 2e-16 ***\n",
       "manufacturerinfiniti         0.223582   0.016279  13.734  < 2e-16 ***\n",
       "manufacturerinfinity        -0.217752   0.077026  -2.827 0.004699 ** \n",
       "manufacturerjaguar          -0.053887   0.027419  -1.965 0.049383 *  \n",
       "manufacturerjeep             0.399432   0.008723  45.790  < 2e-16 ***\n",
       "manufacturerkia             -0.066735   0.012234  -5.455 4.90e-08 ***\n",
       "manufacturerland rover      -0.204402   0.238314  -0.858 0.391059    \n",
       "manufacturerlandrover        0.421741   0.317708   1.327 0.184360    \n",
       "manufacturerlexus            0.280010   0.013031  21.488  < 2e-16 ***\n",
       "manufacturerlincoln         -0.068402   0.016284  -4.200 2.66e-05 ***\n",
       "manufacturermazda           -0.237240   0.012964 -18.300  < 2e-16 ***\n",
       "manufacturermercedes         0.055912   0.022670   2.466 0.013648 *  \n",
       "manufacturermercedes-benz    0.368108   0.012407  29.668  < 2e-16 ***\n",
       "manufacturermercury         -0.602350   0.018418 -32.705  < 2e-16 ***\n",
       "manufacturermini            -0.073927   0.021812  -3.389 0.000701 ***\n",
       "manufacturermitsubishi      -0.331090   0.018325 -18.067  < 2e-16 ***\n",
       "manufacturermorgan          -0.629333   0.673866  -0.934 0.350349    \n",
       "manufacturernissan          -0.012932   0.008522  -1.518 0.129119    \n",
       "manufacturerpontiac         -0.505385   0.013798 -36.627  < 2e-16 ***\n",
       "manufacturerporche          -0.092723   0.213172  -0.435 0.663584    \n",
       "manufacturerram              1.097072   0.009265 118.413  < 2e-16 ***\n",
       "manufacturerrover            0.602082   0.024710  24.366  < 2e-16 ***\n",
       "manufacturersaturn          -0.665852   0.018973 -35.096  < 2e-16 ***\n",
       "manufacturersubaru           0.130027   0.011313  11.494  < 2e-16 ***\n",
       "manufacturertoyota           0.197533   0.007779  25.394  < 2e-16 ***\n",
       "manufacturervolkswagen      -0.145871   0.011150 -13.082  < 2e-16 ***\n",
       "manufacturervolvo           -0.276576   0.017822 -15.519  < 2e-16 ***\n",
       "manufacturervw              -0.386733   0.030045 -12.872  < 2e-16 ***\n",
       "---\n",
       "Signif. codes:  0 '***' 0.001 '**' 0.01 '*' 0.05 '.' 0.1 ' ' 1\n",
       "\n",
       "Residual standard error: 0.953 on 499949 degrees of freedom\n",
       "Multiple R-squared:  0.09197,\tAdjusted R-squared:  0.09188 \n",
       "F-statistic:  1013 on 50 and 499949 DF,  p-value: < 2.2e-16\n"
      ]
     },
     "metadata": {},
     "output_type": "display_data"
    }
   ],
   "source": [
    "mod.out <- lm(price~manufacturer, data=Test)\n",
    "summary(mod.out)"
   ]
  },
  {
   "cell_type": "code",
   "execution_count": 76,
   "metadata": {
    "slideshow": {
     "slide_type": "skip"
    }
   },
   "outputs": [
    {
     "data": {
      "image/png": "[encoded data removed]",
      "text/plain": [
       "plot without title"
      ]
     },
     "metadata": {},
     "output_type": "display_data"
    }
   ],
   "source": [
    "plot(fitted(mod.out)[c(1:10000)],residuals(mod.out)[c(1:10000)],xlab='fitted',ylab='residuals')\n",
    "lines(loess.smooth(fitted(mod.out),residuals(mod.out)),col='red')\n",
    "abline(h=0,lty=2)"
   ]
  },
  {
   "cell_type": "markdown",
   "metadata": {
    "slideshow": {
     "slide_type": "skip"
    }
   },
   "source": [
    "#### Make"
   ]
  },
  {
   "cell_type": "markdown",
   "metadata": {
    "slideshow": {
     "slide_type": "skip"
    }
   },
   "source": [
    "Make as expected carries too much information and too many categories making it impossible to analyze. The minimum size of data to produce a linear model which includes all the categories is too big for R itself to handle. Moreover it would be of little use taking a very small portion of data and test it against itself to avoid categories collision."
   ]
  },
  {
   "cell_type": "markdown",
   "metadata": {
    "slideshow": {
     "slide_type": "skip"
    }
   },
   "source": [
    "#### Condition"
   ]
  },
  {
   "cell_type": "code",
   "execution_count": 77,
   "metadata": {
    "slideshow": {
     "slide_type": "skip"
    }
   },
   "outputs": [
    {
     "data": {
      "text/plain": [
       "\n",
       "Call:\n",
       "lm(formula = price ~ condition, data = Test)\n",
       "\n",
       "Residuals:\n",
       "    Min      1Q  Median      3Q     Max \n",
       "-1.8286 -0.6212 -0.2144  0.4287  4.4799 \n",
       "\n",
       "Coefficients:\n",
       "                    Estimate Std. Error  t value Pr(>|t|)    \n",
       "(Intercept)         0.324456   0.002309  140.518   <2e-16 ***\n",
       "conditionexcellent -0.295177   0.003322  -88.850   <2e-16 ***\n",
       "conditionfair      -1.266153   0.007044 -179.743   <2e-16 ***\n",
       "conditiongood      -0.733111   0.003501 -209.420   <2e-16 ***\n",
       "conditionlike new   0.055675   0.005600    9.942   <2e-16 ***\n",
       "conditionnew        0.310665   0.023292   13.338   <2e-16 ***\n",
       "conditionsalvage   -1.259359   0.025189  -49.996   <2e-16 ***\n",
       "---\n",
       "Signif. codes:  0 '***' 0.001 '**' 0.01 '*' 0.05 '.' 0.1 ' ' 1\n",
       "\n",
       "Residual standard error: 0.9352 on 499993 degrees of freedom\n",
       "Multiple R-squared:  0.1255,\tAdjusted R-squared:  0.1255 \n",
       "F-statistic: 1.196e+04 on 6 and 499993 DF,  p-value: < 2.2e-16\n"
      ]
     },
     "metadata": {},
     "output_type": "display_data"
    }
   ],
   "source": [
    "mod.out <- lm(price~condition, data=Test)\n",
    "summary(mod.out)"
   ]
  },
  {
   "cell_type": "code",
   "execution_count": 78,
   "metadata": {
    "slideshow": {
     "slide_type": "skip"
    }
   },
   "outputs": [
    {
     "data": {
      "image/png": "[encoded data removed]",
      "text/plain": [
       "plot without title"
      ]
     },
     "metadata": {},
     "output_type": "display_data"
    }
   ],
   "source": [
    "plot(fitted(mod.out)[c(1:10000)],residuals(mod.out)[c(1:10000)],xlab='fitted',ylab='residuals')\n",
    "lines(loess.smooth(fitted(mod.out),residuals(mod.out)),col='red')\n",
    "abline(h=0,lty=2)"
   ]
  },
  {
   "cell_type": "markdown",
   "metadata": {
    "slideshow": {
     "slide_type": "skip"
    }
   },
   "source": [
    "#### Cylinders"
   ]
  },
  {
   "cell_type": "code",
   "execution_count": 79,
   "metadata": {
    "slideshow": {
     "slide_type": "skip"
    }
   },
   "outputs": [
    {
     "data": {
      "text/plain": [
       "\n",
       "Call:\n",
       "lm(formula = price ~ cylinders, data = Test)\n",
       "\n",
       "Residuals:\n",
       "    Min      1Q  Median      3Q     Max \n",
       "-1.6219 -0.6955 -0.2562  0.4849  4.3490 \n",
       "\n",
       "Coefficients:\n",
       "                       Estimate Std. Error  t value Pr(>|t|)    \n",
       "(Intercept)            0.227500   0.002550   89.221   <2e-16 ***\n",
       "cylinders10 cylinders -0.489071   0.020814  -23.497   <2e-16 ***\n",
       "cylinders12 cylinders  0.161826   0.065780    2.460   0.0139 *  \n",
       "cylinders3 cylinders  -0.780716   0.042136  -18.528   <2e-16 ***\n",
       "cylinders4 cylinders  -0.585075   0.003944 -148.338   <2e-16 ***\n",
       "cylinders5 cylinders  -0.727200   0.015715  -46.275   <2e-16 ***\n",
       "cylinders6 cylinders  -0.377009   0.003728 -101.121   <2e-16 ***\n",
       "cylinders8 cylinders  -0.038816   0.003938   -9.857   <2e-16 ***\n",
       "cylindersother         0.200910   0.008412   23.885   <2e-16 ***\n",
       "---\n",
       "Signif. codes:  0 '***' 0.001 '**' 0.01 '*' 0.05 '.' 0.1 ' ' 1\n",
       "\n",
       "Residual standard error: 0.9683 on 499991 degrees of freedom\n",
       "Multiple R-squared:  0.06248,\tAdjusted R-squared:  0.06246 \n",
       "F-statistic:  4165 on 8 and 499991 DF,  p-value: < 2.2e-16\n"
      ]
     },
     "metadata": {},
     "output_type": "display_data"
    }
   ],
   "source": [
    "mod.out <- lm(price~cylinders, data=Test)\n",
    "summary(mod.out)"
   ]
  },
  {
   "cell_type": "code",
   "execution_count": 80,
   "metadata": {
    "slideshow": {
     "slide_type": "skip"
    }
   },
   "outputs": [
    {
     "data": {
      "image/png": "[encoded data removed]",
      "text/plain": [
       "plot without title"
      ]
     },
     "metadata": {},
     "output_type": "display_data"
    }
   ],
   "source": [
    "plot(fitted(mod.out)[c(1:10000)],residuals(mod.out)[c(1:10000)],xlab='fitted',ylab='residuals')\n",
    "lines(loess.smooth(fitted(mod.out),residuals(mod.out),span=60),col='red')\n",
    "abline(h=0,lty=2)"
   ]
  },
  {
   "cell_type": "markdown",
   "metadata": {
    "slideshow": {
     "slide_type": "skip"
    }
   },
   "source": [
    "#### Fuel"
   ]
  },
  {
   "cell_type": "code",
   "execution_count": 81,
   "metadata": {
    "slideshow": {
     "slide_type": "skip"
    }
   },
   "outputs": [
    {
     "data": {
      "text/plain": [
       "\n",
       "Call:\n",
       "lm(formula = price ~ fuel, data = Test)\n",
       "\n",
       "Residuals:\n",
       "    Min      1Q  Median      3Q     Max \n",
       "-2.1471 -0.7059 -0.2806  0.4715  4.0814 \n",
       "\n",
       "Coefficients:\n",
       "             Estimate Std. Error t value Pr(>|t|)    \n",
       "(Intercept)   0.89486    0.01545  57.926  < 2e-16 ***\n",
       "fueldiesel    0.05872    0.01637   3.587 0.000335 ***\n",
       "fuelelectric -0.41514    0.04276  -9.710  < 2e-16 ***\n",
       "fuelgas      -0.98314    0.01552 -63.365  < 2e-16 ***\n",
       "fuelhybrid   -1.01631    0.02193 -46.349  < 2e-16 ***\n",
       "fuelother    -0.53403    0.01718 -31.076  < 2e-16 ***\n",
       "---\n",
       "Signif. codes:  0 '***' 0.001 '**' 0.01 '*' 0.05 '.' 0.1 ' ' 1\n",
       "\n",
       "Residual standard error: 0.9618 on 499994 degrees of freedom\n",
       "Multiple R-squared:  0.075,\tAdjusted R-squared:  0.07499 \n",
       "F-statistic:  8108 on 5 and 499994 DF,  p-value: < 2.2e-16\n"
      ]
     },
     "metadata": {},
     "output_type": "display_data"
    }
   ],
   "source": [
    "mod.out <- lm(price~fuel, data=Test)\n",
    "summary(mod.out)"
   ]
  },
  {
   "cell_type": "code",
   "execution_count": 82,
   "metadata": {
    "slideshow": {
     "slide_type": "skip"
    }
   },
   "outputs": [
    {
     "data": {
      "image/png": "[encoded data removed]",
      "text/plain": [
       "plot without title"
      ]
     },
     "metadata": {},
     "output_type": "display_data"
    }
   ],
   "source": [
    "plot(fitted(mod.out)[c(1:10000)],residuals(mod.out)[c(1:10000)],xlab='fitted',ylab='residuals')\n",
    "lines(loess.smooth(fitted(mod.out),residuals(mod.out),span=60),col='red')\n",
    "abline(h=0,lty=2)"
   ]
  },
  {
   "cell_type": "markdown",
   "metadata": {
    "slideshow": {
     "slide_type": "slide"
    }
   },
   "source": [
    "#### Odometer"
   ]
  },
  {
   "cell_type": "code",
   "execution_count": 83,
   "metadata": {
    "slideshow": {
     "slide_type": "-"
    }
   },
   "outputs": [
    {
     "data": {
      "image/png": "[encoded data removed]",
      "text/plain": [
       "plot without title"
      ]
     },
     "metadata": {},
     "output_type": "display_data"
    }
   ],
   "source": [
    "MSE <- c()\n",
    "for(i in 1:10){\n",
    "  lm.fit <- lm(price~poly(odometer, degree=i), data=Test)\n",
    "  y.pred <- predict(lm.fit, newdata=Validate)\n",
    "  mse <- mean((Validate$price-y.pred)^2)\n",
    "  MSE <-  c(MSE, mse)\n",
    "}\n",
    "plot(1:10,MSE,type=\"l\")"
   ]
  },
  {
   "cell_type": "code",
   "execution_count": 84,
   "metadata": {
    "slideshow": {
     "slide_type": "skip"
    }
   },
   "outputs": [],
   "source": [
    "mod.out.lin <- lm(price~odometer,data=Test)"
   ]
  },
  {
   "cell_type": "code",
   "execution_count": 85,
   "metadata": {
    "scrolled": false,
    "slideshow": {
     "slide_type": "skip"
    }
   },
   "outputs": [
    {
     "data": {
      "text/plain": [
       "\n",
       "Call:\n",
       "lm(formula = price ~ poly(odometer, 9), data = Test)\n",
       "\n",
       "Residuals:\n",
       "    Min      1Q  Median      3Q     Max \n",
       "-2.4565 -0.4925 -0.1906  0.3457  4.6463 \n",
       "\n",
       "Coefficients:\n",
       "                     Estimate Std. Error t value Pr(>|t|)    \n",
       "(Intercept)        -6.462e-17  1.180e-03    0.00        1    \n",
       "poly(odometer, 9)1 -3.374e+02  8.342e-01 -404.44   <2e-16 ***\n",
       "poly(odometer, 9)2  5.940e+01  8.342e-01   71.21   <2e-16 ***\n",
       "poly(odometer, 9)3  9.249e+01  8.342e-01  110.88   <2e-16 ***\n",
       "poly(odometer, 9)4 -1.058e+02  8.342e-01 -126.79   <2e-16 ***\n",
       "poly(odometer, 9)5  7.786e+01  8.342e-01   93.33   <2e-16 ***\n",
       "poly(odometer, 9)6 -6.036e+01  8.342e-01  -72.36   <2e-16 ***\n",
       "poly(odometer, 9)7  4.918e+01  8.342e-01   58.96   <2e-16 ***\n",
       "poly(odometer, 9)8 -4.007e+01  8.342e-01  -48.04   <2e-16 ***\n",
       "poly(odometer, 9)9  3.552e+01  8.342e-01   42.58   <2e-16 ***\n",
       "---\n",
       "Signif. codes:  0 '***' 0.001 '**' 0.01 '*' 0.05 '.' 0.1 ' ' 1\n",
       "\n",
       "Residual standard error: 0.8342 on 499990 degrees of freedom\n",
       "Multiple R-squared:  0.3042,\tAdjusted R-squared:  0.3042 \n",
       "F-statistic: 2.428e+04 on 9 and 499990 DF,  p-value: < 2.2e-16\n"
      ]
     },
     "metadata": {},
     "output_type": "display_data"
    }
   ],
   "source": [
    "mod.out <- lm(price~poly(odometer, 9),data=Test)\n",
    "summary(mod.out)"
   ]
  },
  {
   "cell_type": "code",
   "execution_count": 86,
   "metadata": {
    "slideshow": {
     "slide_type": "skip"
    }
   },
   "outputs": [
    {
     "data": {
      "image/png": "[encoded data removed]",
      "text/plain": [
       "plot without title"
      ]
     },
     "metadata": {},
     "output_type": "display_data"
    }
   ],
   "source": [
    "plot(fitted(mod.out)[c(1:10000)],residuals(mod.out)[c(1:10000)],xlab='fitted',ylab='residuals')\n",
    "lines(loess.smooth(fitted(mod.out),residuals(mod.out)),col='red')\n",
    "lines(loess.smooth(fitted(mod.out.lin),residuals(mod.out.lin)),col='cyan')\n",
    "abline(h=0,lty=2)"
   ]
  },
  {
   "cell_type": "markdown",
   "metadata": {
    "slideshow": {
     "slide_type": "skip"
    }
   },
   "source": [
    "#### Title Status"
   ]
  },
  {
   "cell_type": "code",
   "execution_count": 87,
   "metadata": {
    "slideshow": {
     "slide_type": "skip"
    }
   },
   "outputs": [
    {
     "data": {
      "text/plain": [
       "\n",
       "Call:\n",
       "lm(formula = price ~ title_status, data = Test)\n",
       "\n",
       "Residuals:\n",
       "    Min      1Q  Median      3Q     Max \n",
       "-1.7987 -0.7563 -0.2791  0.4834  4.4306 \n",
       "\n",
       "Coefficients:\n",
       "                       Estimate Std. Error t value Pr(>|t|)    \n",
       "(Intercept)             0.06731    0.04156   1.620    0.105    \n",
       "title_statusclean      -0.05854    0.04158  -1.408    0.159    \n",
       "title_statuslien        0.53790    0.04329  12.426  < 2e-16 ***\n",
       "title_statusmissing    -0.98330    0.05231 -18.799  < 2e-16 ***\n",
       "title_statusparts only -1.07484    0.06469 -16.616  < 2e-16 ***\n",
       "title_statusrebuilt    -0.29049    0.04238  -6.854 7.21e-12 ***\n",
       "title_statussalvage    -0.50481    0.04292 -11.761  < 2e-16 ***\n",
       "---\n",
       "Signif. codes:  0 '***' 0.001 '**' 0.01 '*' 0.05 '.' 0.1 ' ' 1\n",
       "\n",
       "Residual standard error: 0.9939 on 499993 degrees of freedom\n",
       "Multiple R-squared:  0.01216,\tAdjusted R-squared:  0.01215 \n",
       "F-statistic:  1026 on 6 and 499993 DF,  p-value: < 2.2e-16\n"
      ]
     },
     "metadata": {},
     "output_type": "display_data"
    }
   ],
   "source": [
    "mod.out <- lm(price~title_status, data=Test)\n",
    "summary(mod.out)"
   ]
  },
  {
   "cell_type": "code",
   "execution_count": 88,
   "metadata": {
    "slideshow": {
     "slide_type": "skip"
    }
   },
   "outputs": [
    {
     "data": {
      "image/png": "[encoded data removed]",
      "text/plain": [
       "plot without title"
      ]
     },
     "metadata": {},
     "output_type": "display_data"
    }
   ],
   "source": [
    "plot(fitted(mod.out)[c(1:10000)],residuals(mod.out)[c(1:10000)],xlab='fitted',ylab='residuals')\n",
    "lines(loess.smooth(fitted(mod.out),residuals(mod.out),span=60),col='red')\n",
    "abline(h=0,lty=2)"
   ]
  },
  {
   "cell_type": "markdown",
   "metadata": {
    "slideshow": {
     "slide_type": "skip"
    }
   },
   "source": [
    "#### Transmission"
   ]
  },
  {
   "cell_type": "code",
   "execution_count": 89,
   "metadata": {
    "slideshow": {
     "slide_type": "skip"
    }
   },
   "outputs": [
    {
     "data": {
      "text/plain": [
       "\n",
       "Call:\n",
       "lm(formula = price ~ transmission, data = Test)\n",
       "\n",
       "Residuals:\n",
       "    Min      1Q  Median      3Q     Max \n",
       "-1.7325 -0.7347 -0.2982  0.4588  4.2057 \n",
       "\n",
       "Coefficients:\n",
       "                      Estimate Std. Error t value Pr(>|t|)    \n",
       "(Intercept)            0.41436    0.01754  23.619  < 2e-16 ***\n",
       "transmissionautomatic -0.40694    0.01761 -23.112  < 2e-16 ***\n",
       "transmissionmanual    -0.62686    0.01814 -34.564  < 2e-16 ***\n",
       "transmissionother      0.12464    0.02019   6.173  6.7e-10 ***\n",
       "---\n",
       "Signif. codes:  0 '***' 0.001 '**' 0.01 '*' 0.05 '.' 0.1 ' ' 1\n",
       "\n",
       "Residual standard error: 0.9944 on 499996 degrees of freedom\n",
       "Multiple R-squared:  0.01112,\tAdjusted R-squared:  0.01112 \n",
       "F-statistic:  1875 on 3 and 499996 DF,  p-value: < 2.2e-16\n"
      ]
     },
     "metadata": {},
     "output_type": "display_data"
    }
   ],
   "source": [
    "mod.out <- lm(price~transmission, data=Test)\n",
    "summary(mod.out)"
   ]
  },
  {
   "cell_type": "code",
   "execution_count": 90,
   "metadata": {
    "slideshow": {
     "slide_type": "skip"
    }
   },
   "outputs": [
    {
     "data": {
      "image/png": "[encoded data removed]",
      "text/plain": [
       "plot without title"
      ]
     },
     "metadata": {},
     "output_type": "display_data"
    }
   ],
   "source": [
    "plot(fitted(mod.out)[c(1:10000)],residuals(mod.out)[c(1:10000)],xlab='fitted',ylab='residuals')\n",
    "lines(loess.smooth(fitted(mod.out),residuals(mod.out),span=60),col='red')\n",
    "abline(h=0,lty=2)"
   ]
  },
  {
   "cell_type": "markdown",
   "metadata": {
    "slideshow": {
     "slide_type": "skip"
    }
   },
   "source": [
    "#### Drive"
   ]
  },
  {
   "cell_type": "code",
   "execution_count": 91,
   "metadata": {
    "slideshow": {
     "slide_type": "skip"
    }
   },
   "outputs": [
    {
     "data": {
      "text/plain": [
       "\n",
       "Call:\n",
       "lm(formula = price ~ drive, data = Test)\n",
       "\n",
       "Residuals:\n",
       "    Min      1Q  Median      3Q     Max \n",
       "-1.5652 -0.6888 -0.2323  0.5062  4.3444 \n",
       "\n",
       "Coefficients:\n",
       "             Estimate Std. Error t value Pr(>|t|)    \n",
       "(Intercept) -0.064021   0.002716 -23.570  < 2e-16 ***\n",
       "drive4wd     0.435723   0.003630 120.046  < 2e-16 ***\n",
       "drivefwd    -0.287270   0.003757 -76.472  < 2e-16 ***\n",
       "driverwd     0.026021   0.004355   5.975  2.3e-09 ***\n",
       "---\n",
       "Signif. codes:  0 '***' 0.001 '**' 0.01 '*' 0.05 '.' 0.1 ' ' 1\n",
       "\n",
       "Residual standard error: 0.9597 on 499996 degrees of freedom\n",
       "Multiple R-squared:  0.07892,\tAdjusted R-squared:  0.07891 \n",
       "F-statistic: 1.428e+04 on 3 and 499996 DF,  p-value: < 2.2e-16\n"
      ]
     },
     "metadata": {},
     "output_type": "display_data"
    }
   ],
   "source": [
    "mod.out <- lm(price~drive, data=Test)\n",
    "summary(mod.out)"
   ]
  },
  {
   "cell_type": "code",
   "execution_count": 92,
   "metadata": {
    "slideshow": {
     "slide_type": "skip"
    }
   },
   "outputs": [
    {
     "data": {
      "image/png": "[encoded data removed]",
      "text/plain": [
       "plot without title"
      ]
     },
     "metadata": {},
     "output_type": "display_data"
    }
   ],
   "source": [
    "plot(fitted(mod.out)[c(1:10000)],residuals(mod.out)[c(1:10000)],xlab='fitted',ylab='residuals')\n",
    "lines(loess.smooth(fitted(mod.out),residuals(mod.out),span=60),col='red')\n",
    "abline(h=0,lty=2)"
   ]
  },
  {
   "cell_type": "markdown",
   "metadata": {
    "slideshow": {
     "slide_type": "skip"
    }
   },
   "source": [
    "#### Type"
   ]
  },
  {
   "cell_type": "code",
   "execution_count": 93,
   "metadata": {
    "slideshow": {
     "slide_type": "skip"
    }
   },
   "outputs": [
    {
     "data": {
      "text/plain": [
       "\n",
       "Call:\n",
       "lm(formula = price ~ type, data = Test)\n",
       "\n",
       "Residuals:\n",
       "    Min      1Q  Median      3Q     Max \n",
       "-1.7628 -0.6865 -0.2509  0.4816  4.3704 \n",
       "\n",
       "Coefficients:\n",
       "                 Estimate Std. Error t value Pr(>|t|)    \n",
       "(Intercept)     -0.099248   0.002664 -37.261  < 2e-16 ***\n",
       "typebus          0.121039   0.040521   2.987  0.00282 ** \n",
       "typeconvertible  0.076220   0.009665   7.886 3.12e-15 ***\n",
       "typecoupe        0.040643   0.006711   6.056 1.39e-09 ***\n",
       "typehatchback   -0.235491   0.008599 -27.387  < 2e-16 ***\n",
       "typemini-van    -0.278346   0.010439 -26.665  < 2e-16 ***\n",
       "typeoffroad      0.143012   0.025348   5.642 1.68e-08 ***\n",
       "typeother        0.390711   0.011051  35.356  < 2e-16 ***\n",
       "typepickup       0.668540   0.005264 127.002  < 2e-16 ***\n",
       "typesedan       -0.221187   0.004016 -55.074  < 2e-16 ***\n",
       "typeSUV          0.187625   0.004133  45.401  < 2e-16 ***\n",
       "typetruck        0.563431   0.005221 107.917  < 2e-16 ***\n",
       "typevan          0.075753   0.010307   7.349 1.99e-13 ***\n",
       "typewagon       -0.078573   0.010069  -7.803 6.04e-15 ***\n",
       "---\n",
       "Signif. codes:  0 '***' 0.001 '**' 0.01 '*' 0.05 '.' 0.1 ' ' 1\n",
       "\n",
       "Residual standard error: 0.9585 on 499986 degrees of freedom\n",
       "Multiple R-squared:  0.08122,\tAdjusted R-squared:  0.08119 \n",
       "F-statistic:  3400 on 13 and 499986 DF,  p-value: < 2.2e-16\n"
      ]
     },
     "metadata": {},
     "output_type": "display_data"
    }
   ],
   "source": [
    "mod.out <- lm(price~type, data=Test)\n",
    "summary(mod.out)"
   ]
  },
  {
   "cell_type": "code",
   "execution_count": 94,
   "metadata": {
    "slideshow": {
     "slide_type": "skip"
    }
   },
   "outputs": [
    {
     "data": {
      "image/png": "[encoded data removed]",
      "text/plain": [
       "plot without title"
      ]
     },
     "metadata": {},
     "output_type": "display_data"
    }
   ],
   "source": [
    "plot(fitted(mod.out)[c(1:10000)],residuals(mod.out)[c(1:10000)],xlab='fitted',ylab='residuals')\n",
    "lines(loess.smooth(fitted(mod.out),residuals(mod.out),span=60),col='red')\n",
    "abline(h=0,lty=2)"
   ]
  },
  {
   "cell_type": "markdown",
   "metadata": {
    "slideshow": {
     "slide_type": "skip"
    }
   },
   "source": [
    "#### Paint Color"
   ]
  },
  {
   "cell_type": "code",
   "execution_count": 95,
   "metadata": {
    "slideshow": {
     "slide_type": "skip"
    }
   },
   "outputs": [
    {
     "data": {
      "text/plain": [
       "\n",
       "Call:\n",
       "lm(formula = price ~ paint_color, data = Test)\n",
       "\n",
       "Residuals:\n",
       "    Min      1Q  Median      3Q     Max \n",
       "-1.3989 -0.7344 -0.2944  0.4894  4.4252 \n",
       "\n",
       "Coefficients:\n",
       "                   Estimate Std. Error t value Pr(>|t|)    \n",
       "(Intercept)       -0.033537   0.002692 -12.459  < 2e-16 ***\n",
       "paint_colorblack   0.196189   0.004571  42.919  < 2e-16 ***\n",
       "paint_colorblue   -0.142941   0.005582 -25.606  < 2e-16 ***\n",
       "paint_colorbrown  -0.186964   0.010616 -17.611  < 2e-16 ***\n",
       "paint_colorcustom -0.009874   0.010667  -0.926 0.354618    \n",
       "paint_colorgreen  -0.398859   0.008798 -45.335  < 2e-16 ***\n",
       "paint_colorgrey    0.021469   0.005878   3.653 0.000259 ***\n",
       "paint_colororange  0.170838   0.020911   8.170 3.10e-16 ***\n",
       "paint_colorpurple -0.380457   0.028167 -13.507  < 2e-16 ***\n",
       "paint_colorred    -0.027091   0.005611  -4.828 1.38e-06 ***\n",
       "paint_colorsilver -0.052927   0.004980 -10.628  < 2e-16 ***\n",
       "paint_colorwhite   0.238936   0.004397  54.343  < 2e-16 ***\n",
       "paint_coloryellow -0.014030   0.017184  -0.816 0.414225    \n",
       "---\n",
       "Signif. codes:  0 '***' 0.001 '**' 0.01 '*' 0.05 '.' 0.1 ' ' 1\n",
       "\n",
       "Residual standard error: 0.9893 on 499987 degrees of freedom\n",
       "Multiple R-squared:  0.0213,\tAdjusted R-squared:  0.02128 \n",
       "F-statistic: 906.9 on 12 and 499987 DF,  p-value: < 2.2e-16\n"
      ]
     },
     "metadata": {},
     "output_type": "display_data"
    }
   ],
   "source": [
    "mod.out <- lm(price~paint_color, data=Test)\n",
    "summary(mod.out)"
   ]
  },
  {
   "cell_type": "code",
   "execution_count": 96,
   "metadata": {
    "slideshow": {
     "slide_type": "skip"
    }
   },
   "outputs": [
    {
     "data": {
      "image/png": "[encoded data removed]",
      "text/plain": [
       "plot without title"
      ]
     },
     "metadata": {},
     "output_type": "display_data"
    }
   ],
   "source": [
    "plot(fitted(mod.out)[c(1:10000)],residuals(mod.out)[c(1:10000)],xlab='fitted',ylab='residuals')\n",
    "lines(loess.smooth(fitted(mod.out),residuals(mod.out)),col='red')\n",
    "abline(h=0,lty=2)"
   ]
  },
  {
   "cell_type": "markdown",
   "metadata": {
    "slideshow": {
     "slide_type": "skip"
    }
   },
   "source": [
    "#### Weather"
   ]
  },
  {
   "cell_type": "code",
   "execution_count": 97,
   "metadata": {
    "slideshow": {
     "slide_type": "skip"
    }
   },
   "outputs": [
    {
     "data": {
      "image/png": "[encoded data removed]",
      "text/plain": [
       "plot without title"
      ]
     },
     "metadata": {},
     "output_type": "display_data"
    }
   ],
   "source": [
    "MSE <- c()\n",
    "for(i in 1:10){\n",
    "  lm.fit <- lm(price~poly(weather, degree=i), data=Test)\n",
    "  y.pred <- predict(lm.fit, newdata=Validate)\n",
    "  mse <- mean((Validate$price-y.pred)^2)\n",
    "  MSE <-  c(MSE, mse)\n",
    "}\n",
    "plot(1:10,MSE,type=\"l\")"
   ]
  },
  {
   "cell_type": "code",
   "execution_count": 98,
   "metadata": {
    "slideshow": {
     "slide_type": "skip"
    }
   },
   "outputs": [
    {
     "data": {
      "text/plain": [
       "\n",
       "Call:\n",
       "lm(formula = price ~ poly(weather, 2), data = Test)\n",
       "\n",
       "Residuals:\n",
       "    Min      1Q  Median      3Q     Max \n",
       "-1.6675 -0.7556 -0.3093  0.4967  4.0412 \n",
       "\n",
       "Coefficients:\n",
       "                    Estimate Std. Error t value Pr(>|t|)    \n",
       "(Intercept)        2.119e-16  1.411e-03   0.000        1    \n",
       "poly(weather, 2)1 -9.648e+00  9.980e-01  -9.667   <2e-16 ***\n",
       "poly(weather, 2)2  4.331e+01  9.980e-01  43.398   <2e-16 ***\n",
       "---\n",
       "Signif. codes:  0 '***' 0.001 '**' 0.01 '*' 0.05 '.' 0.1 ' ' 1\n",
       "\n",
       "Residual standard error: 0.998 on 499997 degrees of freedom\n",
       "Multiple R-squared:  0.003938,\tAdjusted R-squared:  0.003934 \n",
       "F-statistic: 988.4 on 2 and 499997 DF,  p-value: < 2.2e-16\n"
      ]
     },
     "metadata": {},
     "output_type": "display_data"
    }
   ],
   "source": [
    "mod.out <- lm(price~poly(weather,2),data=Test)\n",
    "summary(mod.out)"
   ]
  },
  {
   "cell_type": "code",
   "execution_count": 99,
   "metadata": {
    "slideshow": {
     "slide_type": "skip"
    }
   },
   "outputs": [
    {
     "data": {
      "image/png": "[encoded data removed]",
      "text/plain": [
       "plot without title"
      ]
     },
     "metadata": {},
     "output_type": "display_data"
    }
   ],
   "source": [
    "plot(fitted(mod.out)[c(1:10000)],residuals(mod.out)[c(1:10000)],xlab='fitted',ylab='residuals')\n",
    "lines(loess.smooth(fitted(mod.out),residuals(mod.out)),col='red')\n",
    "abline(h=0,lty=2)"
   ]
  },
  {
   "cell_type": "markdown",
   "metadata": {
    "slideshow": {
     "slide_type": "slide"
    }
   },
   "source": [
    "### Linear Model"
   ]
  },
  {
   "cell_type": "markdown",
   "metadata": {
    "slideshow": {
     "slide_type": "-"
    }
   },
   "source": [
    "At first i've tried to model a simple linear model with the following regressors:\n",
    "* year\n",
    "* manufacturer\n",
    "* condition\n",
    "* cylinder\n",
    "* fuel\n",
    "* odometer\n",
    "* title_status\n",
    "* transmission\n",
    "* drive\n",
    "* type\n",
    "* paint_color"
   ]
  },
  {
   "cell_type": "code",
   "execution_count": 100,
   "metadata": {
    "slideshow": {
     "slide_type": "skip"
    }
   },
   "outputs": [
    {
     "data": {
      "text/html": [
       "<ol class=list-inline>\n",
       "\t<li>'price'</li>\n",
       "\t<li>'year'</li>\n",
       "\t<li>'manufacturer'</li>\n",
       "\t<li>'make'</li>\n",
       "\t<li>'condition'</li>\n",
       "\t<li>'cylinders'</li>\n",
       "\t<li>'fuel'</li>\n",
       "\t<li>'odometer'</li>\n",
       "\t<li>'title_status'</li>\n",
       "\t<li>'transmission'</li>\n",
       "\t<li>'drive'</li>\n",
       "\t<li>'type'</li>\n",
       "\t<li>'paint_color'</li>\n",
       "\t<li>'weather'</li>\n",
       "</ol>\n"
      ],
      "text/latex": [
       "\\begin{enumerate*}\n",
       "\\item 'price'\n",
       "\\item 'year'\n",
       "\\item 'manufacturer'\n",
       "\\item 'make'\n",
       "\\item 'condition'\n",
       "\\item 'cylinders'\n",
       "\\item 'fuel'\n",
       "\\item 'odometer'\n",
       "\\item 'title\\_status'\n",
       "\\item 'transmission'\n",
       "\\item 'drive'\n",
       "\\item 'type'\n",
       "\\item 'paint\\_color'\n",
       "\\item 'weather'\n",
       "\\end{enumerate*}\n"
      ],
      "text/markdown": [
       "1. 'price'\n",
       "2. 'year'\n",
       "3. 'manufacturer'\n",
       "4. 'make'\n",
       "5. 'condition'\n",
       "6. 'cylinders'\n",
       "7. 'fuel'\n",
       "8. 'odometer'\n",
       "9. 'title_status'\n",
       "10. 'transmission'\n",
       "11. 'drive'\n",
       "12. 'type'\n",
       "13. 'paint_color'\n",
       "14. 'weather'\n",
       "\n",
       "\n"
      ],
      "text/plain": [
       " [1] \"price\"        \"year\"         \"manufacturer\" \"make\"         \"condition\"   \n",
       " [6] \"cylinders\"    \"fuel\"         \"odometer\"     \"title_status\" \"transmission\"\n",
       "[11] \"drive\"        \"type\"         \"paint_color\"  \"weather\"     "
      ]
     },
     "metadata": {},
     "output_type": "display_data"
    }
   ],
   "source": [
    "names(Cars)"
   ]
  },
  {
   "cell_type": "code",
   "execution_count": 101,
   "metadata": {
    "scrolled": true,
    "slideshow": {
     "slide_type": "skip"
    }
   },
   "outputs": [],
   "source": [
    "lm.out <- lm(price~year+manufacturer+condition+cylinders+fuel+odometer+title_status+transmission+drive+type+paint_color,data=Test)"
   ]
  },
  {
   "cell_type": "code",
   "execution_count": 102,
   "metadata": {
    "slideshow": {
     "slide_type": "skip"
    }
   },
   "outputs": [],
   "source": [
    "lm.out.poly <- lm(price~poly(year,4)+manufacturer+condition+cylinders+fuel+poly(odometer,9)+title_status+transmission+drive+type+paint_color,data=Test)"
   ]
  },
  {
   "cell_type": "code",
   "execution_count": 129,
   "metadata": {
    "slideshow": {
     "slide_type": "slide"
    }
   },
   "outputs": [
    {
     "data": {
      "image/png": "[encoded data removed]",
      "text/plain": [
       "Plot with title \"\""
      ]
     },
     "metadata": {},
     "output_type": "display_data"
    }
   ],
   "source": [
    "plot(lm.out.poly,which=1)"
   ]
  },
  {
   "cell_type": "markdown",
   "metadata": {
    "slideshow": {
     "slide_type": "slide"
    }
   },
   "source": [
    "#### MSE"
   ]
  },
  {
   "cell_type": "code",
   "execution_count": 104,
   "metadata": {
    "slideshow": {
     "slide_type": "skip"
    }
   },
   "outputs": [
    {
     "data": {
      "text/html": [
       "0.311383268025117"
      ],
      "text/latex": [
       "0.311383268025117"
      ],
      "text/markdown": [
       "0.311383268025117"
      ],
      "text/plain": [
       "[1] 0.3113833"
      ]
     },
     "metadata": {},
     "output_type": "display_data"
    }
   ],
   "source": [
    "mean(lm.out.poly$residuals^2)"
   ]
  },
  {
   "cell_type": "code",
   "execution_count": 105,
   "metadata": {
    "slideshow": {
     "slide_type": "-"
    }
   },
   "outputs": [
    {
     "data": {
      "text/html": [
       "0.43607556923731"
      ],
      "text/latex": [
       "0.43607556923731"
      ],
      "text/markdown": [
       "0.43607556923731"
      ],
      "text/plain": [
       "[1] 0.4360756"
      ]
     },
     "metadata": {},
     "output_type": "display_data"
    },
    {
     "data": {
      "text/html": [
       "0.313518366518053"
      ],
      "text/latex": [
       "0.313518366518053"
      ],
      "text/markdown": [
       "0.313518366518053"
      ],
      "text/plain": [
       "[1] 0.3135184"
      ]
     },
     "metadata": {},
     "output_type": "display_data"
    }
   ],
   "source": [
    "y.pred <- predict(lm.out,newdata=Validate,type='response')\n",
    "y.pred.poly <- predict(lm.out.poly,newdata=Validate,type='response')\n",
    "mse <- mean((Validate$price-y.pred)^2)\n",
    "mse.poly <- mean((Validate$price-y.pred.poly)^2)\n",
    "mse\n",
    "mse.poly"
   ]
  },
  {
   "cell_type": "markdown",
   "metadata": {
    "slideshow": {
     "slide_type": "slide"
    }
   },
   "source": [
    "### Lasso and Ridge regression"
   ]
  },
  {
   "cell_type": "markdown",
   "metadata": {
    "slideshow": {
     "slide_type": "-"
    }
   },
   "source": [
    "Lasso and Ridge regression are some of the simpler techniques to reduce model complexity and prevent over-fitting which may result from simple linear regression.\n",
    "\n",
    "In ridge regression, the cost function is altered by adding a penalty equivalent to square of the magnitude of the coefficients.\n",
    "\n",
    "Lasso regression not only helps in reducing over-fitting but it can help us in feature selection."
   ]
  },
  {
   "cell_type": "code",
   "execution_count": 106,
   "metadata": {
    "slideshow": {
     "slide_type": "skip"
    }
   },
   "outputs": [],
   "source": [
    "x <- model.matrix(price~year+manufacturer+condition+cylinders+fuel+odometer+title_status+transmission+drive+type+paint_color, Cars.temp)[,-1]\n",
    "x.poly <- model.matrix(price~poly(year,4)+manufacturer+condition+cylinders+fuel+poly(odometer,9)+title_status+transmission+drive+type+paint_color, Cars.temp)[,-1]\n",
    "y <- Cars.temp$price\n",
    "# lambda <- 10^seq(10, -2, length = 100)"
   ]
  },
  {
   "cell_type": "code",
   "execution_count": 107,
   "metadata": {
    "slideshow": {
     "slide_type": "skip"
    }
   },
   "outputs": [],
   "source": [
    "set.seed(489)\n",
    "train = sample(1:nrow(x), nrow(x)/2)\n",
    "test = (-train)\n",
    "ytest = y[test]"
   ]
  },
  {
   "cell_type": "markdown",
   "metadata": {
    "slideshow": {
     "slide_type": "slide"
    }
   },
   "source": [
    "##### Ridge"
   ]
  },
  {
   "cell_type": "code",
   "execution_count": 108,
   "metadata": {
    "slideshow": {
     "slide_type": "skip"
    }
   },
   "outputs": [
    {
     "data": {
      "text/html": [
       "0.434755663217859"
      ],
      "text/latex": [
       "0.434755663217859"
      ],
      "text/markdown": [
       "0.434755663217859"
      ],
      "text/plain": [
       "[1] 0.4347557"
      ]
     },
     "metadata": {},
     "output_type": "display_data"
    }
   ],
   "source": [
    "ridge.mod <- glmnet(x[train,], y[train], alpha = 0)\n",
    "cv.out <- cv.glmnet(x[train,], y[train], alpha = 0)\n",
    "bestlam <- cv.out$lambda.min\n",
    "ridge.pred <- predict(ridge.mod, s = bestlam, newx = x[test,])\n",
    "mean((ridge.pred-ytest)^2)"
   ]
  },
  {
   "cell_type": "code",
   "execution_count": 109,
   "metadata": {
    "slideshow": {
     "slide_type": "-"
    }
   },
   "outputs": [
    {
     "data": {
      "text/html": [
       "0.31208608055591"
      ],
      "text/latex": [
       "0.31208608055591"
      ],
      "text/markdown": [
       "0.31208608055591"
      ],
      "text/plain": [
       "[1] 0.3120861"
      ]
     },
     "metadata": {},
     "output_type": "display_data"
    }
   ],
   "source": [
    "ridge.mod <- glmnet(x.poly[train,], y[train], alpha = 0)\n",
    "cv.out <- cv.glmnet(x.poly[train,], y[train], alpha = 0)\n",
    "bestlam <- cv.out$lambda.min\n",
    "ridge.pred <- predict(ridge.mod, s = bestlam, newx = x.poly[test,])\n",
    "mean((ridge.pred-ytest)^2)"
   ]
  },
  {
   "cell_type": "code",
   "execution_count": 110,
   "metadata": {
    "slideshow": {
     "slide_type": "slide"
    }
   },
   "outputs": [
    {
     "data": {
      "image/png": "[encoded data removed]",
      "text/plain": [
       "Plot with title \"Residuals vs Fitted   (s=0)\""
      ]
     },
     "metadata": {},
     "output_type": "display_data"
    }
   ],
   "source": [
    "plotres(ridge.mod,which=3)"
   ]
  },
  {
   "cell_type": "markdown",
   "metadata": {
    "slideshow": {
     "slide_type": "slide"
    }
   },
   "source": [
    "##### Lasso"
   ]
  },
  {
   "cell_type": "code",
   "execution_count": 111,
   "metadata": {
    "slideshow": {
     "slide_type": "skip"
    }
   },
   "outputs": [
    {
     "data": {
      "text/html": [
       "0.434008161903449"
      ],
      "text/latex": [
       "0.434008161903449"
      ],
      "text/markdown": [
       "0.434008161903449"
      ],
      "text/plain": [
       "[1] 0.4340082"
      ]
     },
     "metadata": {},
     "output_type": "display_data"
    }
   ],
   "source": [
    "ridge.mod <- glmnet(x[train,], y[train], alpha = 1)\n",
    "cv.out <- cv.glmnet(x[train,], y[train], alpha = 1)\n",
    "bestlam <- cv.out$lambda.min\n",
    "ridge.pred <- predict(ridge.mod, s = bestlam, newx = x[test,])\n",
    "mean((ridge.pred-ytest)^2)"
   ]
  },
  {
   "cell_type": "code",
   "execution_count": 112,
   "metadata": {
    "slideshow": {
     "slide_type": "-"
    }
   },
   "outputs": [
    {
     "data": {
      "text/html": [
       "0.311079242122699"
      ],
      "text/latex": [
       "0.311079242122699"
      ],
      "text/markdown": [
       "0.311079242122699"
      ],
      "text/plain": [
       "[1] 0.3110792"
      ]
     },
     "metadata": {},
     "output_type": "display_data"
    }
   ],
   "source": [
    "ridge.mod <- glmnet(x.poly, y, alpha = 1)\n",
    "ridge.mod <- glmnet(x.poly[train,], y[train], alpha = 1)\n",
    "cv.out <- cv.glmnet(x.poly[train,], y[train], alpha = 1)\n",
    "bestlam <- cv.out$lambda.min\n",
    "ridge.pred <- predict(ridge.mod, s = bestlam, newx = x.poly[test,])\n",
    "mean((ridge.pred-ytest)^2)"
   ]
  },
  {
   "cell_type": "code",
   "execution_count": 113,
   "metadata": {
    "slideshow": {
     "slide_type": "slide"
    }
   },
   "outputs": [
    {
     "data": {
      "image/png": "[encoded data removed]",
      "text/plain": [
       "Plot with title \"Residuals vs Fitted   (s=0)\""
      ]
     },
     "metadata": {},
     "output_type": "display_data"
    }
   ],
   "source": [
    "plotres(ridge.mod,which=3)"
   ]
  },
  {
   "cell_type": "code",
   "execution_count": 114,
   "metadata": {
    "scrolled": false,
    "slideshow": {
     "slide_type": "skip"
    }
   },
   "outputs": [
    {
     "data": {
      "image/png": "[encoded data removed]",
      "text/plain": [
       "plot without title"
      ]
     },
     "metadata": {},
     "output_type": "display_data"
    }
   ],
   "source": [
    "plot(ridge.mod,'lambda',label=TRUE)"
   ]
  },
  {
   "cell_type": "code",
   "execution_count": 115,
   "metadata": {
    "slideshow": {
     "slide_type": "slide"
    }
   },
   "outputs": [
    {
     "data": {
      "image/png": "[encoded data removed]",
      "text/plain": [
       "plot without title"
      ]
     },
     "metadata": {},
     "output_type": "display_data"
    }
   ],
   "source": [
    "plot(ridge.mod,'dev',label=TRUE)"
   ]
  },
  {
   "cell_type": "code",
   "execution_count": 116,
   "metadata": {
    "slideshow": {
     "slide_type": "slide"
    }
   },
   "outputs": [
    {
     "data": {
      "image/png": "[encoded data removed]",
      "text/plain": [
       "plot without title"
      ]
     },
     "metadata": {},
     "output_type": "display_data"
    }
   ],
   "source": [
    "plot(cv.out)"
   ]
  },
  {
   "cell_type": "code",
   "execution_count": 117,
   "metadata": {
    "slideshow": {
     "slide_type": "slide"
    }
   },
   "outputs": [
    {
     "data": {
      "text/html": [
       "<ol class=list-inline>\n",
       "\t<li>'manufactureralfa'</li>\n",
       "\t<li>'manufactureralfa-romeo'</li>\n",
       "\t<li>'manufacturerchev'</li>\n",
       "\t<li>'manufacturerchevrolet'</li>\n",
       "\t<li>'manufacturerdatsun'</li>\n",
       "\t<li>'manufacturerharley'</li>\n",
       "\t<li>'manufacturerhennessey'</li>\n",
       "\t<li>'manufacturerinfinity'</li>\n",
       "\t<li>'manufacturerland rover'</li>\n",
       "\t<li>'manufacturerlandrover'</li>\n",
       "\t<li>'manufacturermercedesbenz'</li>\n",
       "\t<li>'manufacturermorgan'</li>\n",
       "\t<li>'manufacturernoble'</li>\n",
       "\t<li>'manufacturerpontiac'</li>\n",
       "\t<li>'manufacturerporche'</li>\n",
       "\t<li>'manufacturervolvo'</li>\n",
       "\t<li>'conditionlike new'</li>\n",
       "\t<li>'transmissionautomatic'</li>\n",
       "\t<li>'typebus'</li>\n",
       "\t<li>'typeother'</li>\n",
       "\t<li>'typeSUV'</li>\n",
       "\t<li>'typevan'</li>\n",
       "\t<li>'paint_colorbrown'</li>\n",
       "\t<li>'paint_colorgreen'</li>\n",
       "\t<li>'paint_colorgrey'</li>\n",
       "\t<li>'paint_colorpurple'</li>\n",
       "\t<li>'paint_colorred'</li>\n",
       "\t<li>'paint_colorsilver'</li>\n",
       "</ol>\n"
      ],
      "text/latex": [
       "\\begin{enumerate*}\n",
       "\\item 'manufactureralfa'\n",
       "\\item 'manufactureralfa-romeo'\n",
       "\\item 'manufacturerchev'\n",
       "\\item 'manufacturerchevrolet'\n",
       "\\item 'manufacturerdatsun'\n",
       "\\item 'manufacturerharley'\n",
       "\\item 'manufacturerhennessey'\n",
       "\\item 'manufacturerinfinity'\n",
       "\\item 'manufacturerland rover'\n",
       "\\item 'manufacturerlandrover'\n",
       "\\item 'manufacturermercedesbenz'\n",
       "\\item 'manufacturermorgan'\n",
       "\\item 'manufacturernoble'\n",
       "\\item 'manufacturerpontiac'\n",
       "\\item 'manufacturerporche'\n",
       "\\item 'manufacturervolvo'\n",
       "\\item 'conditionlike new'\n",
       "\\item 'transmissionautomatic'\n",
       "\\item 'typebus'\n",
       "\\item 'typeother'\n",
       "\\item 'typeSUV'\n",
       "\\item 'typevan'\n",
       "\\item 'paint\\_colorbrown'\n",
       "\\item 'paint\\_colorgreen'\n",
       "\\item 'paint\\_colorgrey'\n",
       "\\item 'paint\\_colorpurple'\n",
       "\\item 'paint\\_colorred'\n",
       "\\item 'paint\\_colorsilver'\n",
       "\\end{enumerate*}\n"
      ],
      "text/markdown": [
       "1. 'manufactureralfa'\n",
       "2. 'manufactureralfa-romeo'\n",
       "3. 'manufacturerchev'\n",
       "4. 'manufacturerchevrolet'\n",
       "5. 'manufacturerdatsun'\n",
       "6. 'manufacturerharley'\n",
       "7. 'manufacturerhennessey'\n",
       "8. 'manufacturerinfinity'\n",
       "9. 'manufacturerland rover'\n",
       "10. 'manufacturerlandrover'\n",
       "11. 'manufacturermercedesbenz'\n",
       "12. 'manufacturermorgan'\n",
       "13. 'manufacturernoble'\n",
       "14. 'manufacturerpontiac'\n",
       "15. 'manufacturerporche'\n",
       "16. 'manufacturervolvo'\n",
       "17. 'conditionlike new'\n",
       "18. 'transmissionautomatic'\n",
       "19. 'typebus'\n",
       "20. 'typeother'\n",
       "21. 'typeSUV'\n",
       "22. 'typevan'\n",
       "23. 'paint_colorbrown'\n",
       "24. 'paint_colorgreen'\n",
       "25. 'paint_colorgrey'\n",
       "26. 'paint_colorpurple'\n",
       "27. 'paint_colorred'\n",
       "28. 'paint_colorsilver'\n",
       "\n",
       "\n"
      ],
      "text/plain": [
       " [1] \"manufactureralfa\"         \"manufactureralfa-romeo\"  \n",
       " [3] \"manufacturerchev\"         \"manufacturerchevrolet\"   \n",
       " [5] \"manufacturerdatsun\"       \"manufacturerharley\"      \n",
       " [7] \"manufacturerhennessey\"    \"manufacturerinfinity\"    \n",
       " [9] \"manufacturerland rover\"   \"manufacturerlandrover\"   \n",
       "[11] \"manufacturermercedesbenz\" \"manufacturermorgan\"      \n",
       "[13] \"manufacturernoble\"        \"manufacturerpontiac\"     \n",
       "[15] \"manufacturerporche\"       \"manufacturervolvo\"       \n",
       "[17] \"conditionlike new\"        \"transmissionautomatic\"   \n",
       "[19] \"typebus\"                  \"typeother\"               \n",
       "[21] \"typeSUV\"                  \"typevan\"                 \n",
       "[23] \"paint_colorbrown\"         \"paint_colorgreen\"        \n",
       "[25] \"paint_colorgrey\"          \"paint_colorpurple\"       \n",
       "[27] \"paint_colorred\"           \"paint_colorsilver\"       "
      ]
     },
     "metadata": {},
     "output_type": "display_data"
    }
   ],
   "source": [
    "coef.cv.out <- coef(cv.out)\n",
    "coef.cv.out@Dimnames[[1]][which(coef.cv.out == 0 ) ]"
   ]
  },
  {
   "cell_type": "markdown",
   "metadata": {
    "slideshow": {
     "slide_type": "slide"
    }
   },
   "source": [
    "##### Reduced Lasso"
   ]
  },
  {
   "cell_type": "code",
   "execution_count": 122,
   "metadata": {
    "slideshow": {
     "slide_type": "skip"
    }
   },
   "outputs": [],
   "source": [
    "x.poly.redu <- model.matrix(price~poly(year,2)+condition+cylinders+fuel+poly(odometer,2)+title_status+transmission+drive, Cars.temp)[,-1]"
   ]
  },
  {
   "cell_type": "code",
   "execution_count": 127,
   "metadata": {
    "slideshow": {
     "slide_type": "-"
    }
   },
   "outputs": [
    {
     "data": {
      "text/html": [
       "0.38890237802162"
      ],
      "text/latex": [
       "0.38890237802162"
      ],
      "text/markdown": [
       "0.38890237802162"
      ],
      "text/plain": [
       "[1] 0.3889024"
      ]
     },
     "metadata": {},
     "output_type": "display_data"
    }
   ],
   "source": [
    "ridge.mod <- glmnet(x.poly.redu, y, alpha = 1)\n",
    "ridge.mod <- glmnet(x.poly.redu[train,], y[train], alpha = 1)\n",
    "cv.out <- cv.glmnet(x.poly.redu[train,], y[train], alpha = 1)\n",
    "bestlam <- cv.out$lambda.min\n",
    "ridge.pred <- predict(ridge.mod, s = bestlam, newx = x.poly.redu[test,])\n",
    "mean((ridge.pred-ytest)^2)"
   ]
  },
  {
   "cell_type": "code",
   "execution_count": 125,
   "metadata": {},
   "outputs": [
    {
     "data": {
      "image/png": "[encoded data removed]",
      "text/plain": [
       "plot without title"
      ]
     },
     "metadata": {},
     "output_type": "display_data"
    }
   ],
   "source": [
    "plot(ridge.mod,'dev',label=TRUE)"
   ]
  },
  {
   "cell_type": "markdown",
   "metadata": {
    "slideshow": {
     "slide_type": "slide"
    }
   },
   "source": [
    "## Final Notes"
   ]
  },
  {
   "cell_type": "markdown",
   "metadata": {
    "slideshow": {
     "slide_type": "-"
    }
   },
   "source": [
    "This was an interesting dataset to takle, however its multidimensionality and its large number of features forced me to focus my attention in a particular direction ignoring some features that in my opinion where not interesting in the \"grand scheme\". Nonetheless it could be a fun challenge to try and include those dimensions and maybe drop some other aspects to obtain a different perspective on the problem and even maybe a better prediction model."
   ]
  }
 ],
 "metadata": {
  "celltoolbar": "Slideshow",
  "kernelspec": {
   "display_name": "R",
   "language": "R",
   "name": "ir"
  },
  "language_info": {
   "codemirror_mode": "r",
   "file_extension": ".r",
   "mimetype": "text/x-r-source",
   "name": "R",
   "pygments_lexer": "r",
   "version": "3.5.1"
  }
 },
 "nbformat": 4,
 "nbformat_minor": 2
}
