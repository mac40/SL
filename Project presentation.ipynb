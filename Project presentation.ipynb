{
 "cells": [
  {
   "cell_type": "markdown",
   "metadata": {
    "slideshow": {
     "slide_type": "slide"
    }
   },
   "source": [
    "# Analysis of an online game high helo match history "
   ]
  },
  {
   "cell_type": "markdown",
   "metadata": {
    "slideshow": {
     "slide_type": "slide"
    }
   },
   "source": [
    "## 1. Obtaining data"
   ]
  },
  {
   "cell_type": "markdown",
   "metadata": {
    "slideshow": {
     "slide_type": "fragment"
    }
   },
   "source": [
    "All the data used in this study has been gathered with the help of a web spyder made with ```scrapy``` a python library specifically made for this purpose.\n",
    "\n",
    "The website from which i gathered the data is [op.gg](https://euw.op.gg/), a website that keeps track of the data of every single player of [League of Legends](https://euw.leagueoflegends.com/it/)."
   ]
  },
  {
   "cell_type": "markdown",
   "metadata": {
    "slideshow": {
     "slide_type": "slide"
    }
   },
   "source": [
    "### Game introduction"
   ]
  },
  {
   "cell_type": "markdown",
   "metadata": {
    "slideshow": {
     "slide_type": "fragment"
    }
   },
   "source": [
    "In order to have a preliminary understanding of what is interesting and what we want to analyze an introduction of the game is needed. The game consists of:\n",
    "\n",
    "* multiplayer game\n",
    "* PvP scenario\n",
    "* 5v5 for a total of 10 player both cooperating and competing\n",
    "* Each player chooses his character for each game"
   ]
  },
  {
   "cell_type": "markdown",
   "metadata": {
    "slideshow": {
     "slide_type": "slide"
    }
   },
   "source": [
    "### The Data"
   ]
  },
  {
   "cell_type": "code",
   "execution_count": 10,
   "metadata": {
    "slideshow": {
     "slide_type": "fragment"
    }
   },
   "outputs": [
    {
     "data": {
      "text/html": [
       "<table>\n",
       "<thead><tr><th scope=col>mmr</th><th scope=col>result</th><th scope=col>server</th><th scope=col>team_1</th><th scope=col>team_2</th><th scope=col>timestamp</th></tr></thead>\n",
       "<tbody>\n",
       "\t<tr><td>Challenger                             </td><td>Defeat                                 </td><td>euw                                    </td><td>Camille,Kindred,Corki,Caitlyn,Lux      </td><td>Jax,Jarvan IV,Kai'Sa,Orianna,Rakan     </td><td>2019-06-18 04:43:17                    </td></tr>\n",
       "\t<tr><td>Challenger                             </td><td>Defeat                                 </td><td>euw                                    </td><td>Yasuo,Elise,Malzahar,Xayah,Rakan       </td><td>Tryndamere,Sejuani,Aatrox,Kai'Sa,Lux   </td><td>2019-06-18 04:12:28                    </td></tr>\n",
       "\t<tr><td>Challenger                             </td><td>Victory                                </td><td>euw                                    </td><td>Rengar,Lee Sin,Akali,Kai'Sa,Pyke       </td><td>Jax,Taliyah,Zed,Caitlyn,Lux            </td><td>2019-06-16 20:33:20                    </td></tr>\n",
       "\t<tr><td>Challenger                             </td><td>Defeat                                 </td><td>jp                                     </td><td>Tahm Kench,Graves,Ahri,Kai'Sa,Yuumi    </td><td>Riven,Karthus,Katarina,Caitlyn,Janna   </td><td>2019-06-19 18:20:10                    </td></tr>\n",
       "\t<tr><td>Challenger                             </td><td>Defeat                                 </td><td>jp                                     </td><td>Shen,Graves,Rumble,Vayne,Karma         </td><td>Ryze,Rek'Sai,Aatrox,Vladimir,Bard      </td><td>2019-06-19 17:16:12                    </td></tr>\n",
       "\t<tr><td>Challenger                             </td><td>Victory                                </td><td>br                                     </td><td>Quinn,Fiddlesticks,Talon,Ezreal,Alistar</td><td>Gangplank,Xin Zhao,Zilean,Sivir,Leona  </td><td>2019-06-18 09:29:15                    </td></tr>\n",
       "</tbody>\n",
       "</table>\n"
      ],
      "text/latex": [
       "\\begin{tabular}{r|llllll}\n",
       " mmr & result & server & team\\_1 & team\\_2 & timestamp\\\\\n",
       "\\hline\n",
       "\t Challenger                              & Defeat                                  & euw                                     & Camille,Kindred,Corki,Caitlyn,Lux       & Jax,Jarvan IV,Kai'Sa,Orianna,Rakan      & 2019-06-18 04:43:17                    \\\\\n",
       "\t Challenger                              & Defeat                                  & euw                                     & Yasuo,Elise,Malzahar,Xayah,Rakan        & Tryndamere,Sejuani,Aatrox,Kai'Sa,Lux    & 2019-06-18 04:12:28                    \\\\\n",
       "\t Challenger                              & Victory                                 & euw                                     & Rengar,Lee Sin,Akali,Kai'Sa,Pyke        & Jax,Taliyah,Zed,Caitlyn,Lux             & 2019-06-16 20:33:20                    \\\\\n",
       "\t Challenger                              & Defeat                                  & jp                                      & Tahm Kench,Graves,Ahri,Kai'Sa,Yuumi     & Riven,Karthus,Katarina,Caitlyn,Janna    & 2019-06-19 18:20:10                    \\\\\n",
       "\t Challenger                              & Defeat                                  & jp                                      & Shen,Graves,Rumble,Vayne,Karma          & Ryze,Rek'Sai,Aatrox,Vladimir,Bard       & 2019-06-19 17:16:12                    \\\\\n",
       "\t Challenger                              & Victory                                 & br                                      & Quinn,Fiddlesticks,Talon,Ezreal,Alistar & Gangplank,Xin Zhao,Zilean,Sivir,Leona   & 2019-06-18 09:29:15                    \\\\\n",
       "\\end{tabular}\n"
      ],
      "text/markdown": [
       "\n",
       "| mmr | result | server | team_1 | team_2 | timestamp |\n",
       "|---|---|---|---|---|---|\n",
       "| Challenger                              | Defeat                                  | euw                                     | Camille,Kindred,Corki,Caitlyn,Lux       | Jax,Jarvan IV,Kai'Sa,Orianna,Rakan      | 2019-06-18 04:43:17                     |\n",
       "| Challenger                              | Defeat                                  | euw                                     | Yasuo,Elise,Malzahar,Xayah,Rakan        | Tryndamere,Sejuani,Aatrox,Kai'Sa,Lux    | 2019-06-18 04:12:28                     |\n",
       "| Challenger                              | Victory                                 | euw                                     | Rengar,Lee Sin,Akali,Kai'Sa,Pyke        | Jax,Taliyah,Zed,Caitlyn,Lux             | 2019-06-16 20:33:20                     |\n",
       "| Challenger                              | Defeat                                  | jp                                      | Tahm Kench,Graves,Ahri,Kai'Sa,Yuumi     | Riven,Karthus,Katarina,Caitlyn,Janna    | 2019-06-19 18:20:10                     |\n",
       "| Challenger                              | Defeat                                  | jp                                      | Shen,Graves,Rumble,Vayne,Karma          | Ryze,Rek'Sai,Aatrox,Vladimir,Bard       | 2019-06-19 17:16:12                     |\n",
       "| Challenger                              | Victory                                 | br                                      | Quinn,Fiddlesticks,Talon,Ezreal,Alistar | Gangplank,Xin Zhao,Zilean,Sivir,Leona   | 2019-06-18 09:29:15                     |\n",
       "\n"
      ],
      "text/plain": [
       "  mmr        result  server team_1                                 \n",
       "1 Challenger Defeat  euw    Camille,Kindred,Corki,Caitlyn,Lux      \n",
       "2 Challenger Defeat  euw    Yasuo,Elise,Malzahar,Xayah,Rakan       \n",
       "3 Challenger Victory euw    Rengar,Lee Sin,Akali,Kai'Sa,Pyke       \n",
       "4 Challenger Defeat  jp     Tahm Kench,Graves,Ahri,Kai'Sa,Yuumi    \n",
       "5 Challenger Defeat  jp     Shen,Graves,Rumble,Vayne,Karma         \n",
       "6 Challenger Victory br     Quinn,Fiddlesticks,Talon,Ezreal,Alistar\n",
       "  team_2                                timestamp          \n",
       "1 Jax,Jarvan IV,Kai'Sa,Orianna,Rakan    2019-06-18 04:43:17\n",
       "2 Tryndamere,Sejuani,Aatrox,Kai'Sa,Lux  2019-06-18 04:12:28\n",
       "3 Jax,Taliyah,Zed,Caitlyn,Lux           2019-06-16 20:33:20\n",
       "4 Riven,Karthus,Katarina,Caitlyn,Janna  2019-06-19 18:20:10\n",
       "5 Ryze,Rek'Sai,Aatrox,Vladimir,Bard     2019-06-19 17:16:12\n",
       "6 Gangplank,Xin Zhao,Zilean,Sivir,Leona 2019-06-18 09:29:15"
      ]
     },
     "metadata": {},
     "output_type": "display_data"
    }
   ],
   "source": [
    "pre_processed_data <- read.csv(\"./lolgames/games.csv\")\n",
    "head(pre_processed_data)"
   ]
  },
  {
   "cell_type": "markdown",
   "metadata": {
    "slideshow": {
     "slide_type": "fragment"
    }
   },
   "source": [
    "The data gathered is composed of the following informations:\n",
    "\n",
    "* The __MMR__ (Match Making Rating), which is a rating system in order to balance games based on the chess helo system\n",
    "* The __Result__ which can take the values of __Victory__ or __Defeat__ based on the result for __Team_1__\n",
    "* The __Server__ in which the game was played (players are divided by servers depending on the nation they are from)\n",
    "* __Team_1__ composition, i.e. the 5 character choosen by the player in that specific game\n",
    "* __Team_2__ composition\n",
    "* The __Timestamp__ representing the time at which the game took place"
   ]
  },
  {
   "cell_type": "code",
   "execution_count": 11,
   "metadata": {
    "slideshow": {
     "slide_type": "slide"
    }
   },
   "outputs": [
    {
     "data": {
      "text/plain": [
       "          mmr           result         server    \n",
       " Challenger :8117   Defeat :7305   www    :1825  \n",
       " Grandmaster:1072   Victory:1884   euw    : 912  \n",
       "                                   br     : 863  \n",
       "                                   na     : 839  \n",
       "                                   oce    : 808  \n",
       "                                   las    : 754  \n",
       "                                   (Other):3188  \n",
       "                                    team_1    \n",
       " Darius,Rengar,Irelia,Ezreal,Galio     :   9  \n",
       " Rumble,Skarner,Yasuo,Lucian,Karma     :   9  \n",
       " Aatrox,Sejuani,Yasuo,Ezreal,Lux       :   8  \n",
       " Mordekaiser,Rek'Sai,Yasuo,Ezreal,Janna:   8  \n",
       " Camille,Lee Sin,Akali,Ezreal,Karma    :   7  \n",
       " Camille,Zac,Taliyah,Xayah,Rakan       :   7  \n",
       " (Other)                               :9141  \n",
       "                                        team_2                   timestamp   \n",
       " Camille,Aatrox,Akali,Kai'Sa,Lux           :  11   2019-06-17 22:35:33:   9  \n",
       " Irelia,Kindred,LeBlanc,Ezreal,Yuumi       :   9   2019-06-18 21:40:59:   9  \n",
       " Irelia,Kindred,Ekko,Vayne,Yuumi           :   8   2019-06-18 17:56:02:   8  \n",
       " Neeko,Hecarim,Twisted Fate,Lucian,Nautilus:   8   2019-06-19 14:56:54:   8  \n",
       " Darius,Zac,Corki,Lucian,Morgana           :   7   2019-06-17 21:45:13:   7  \n",
       " Fiora,Volibear,Lux,Ezreal,Pyke            :   7   2019-06-18 05:45:29:   7  \n",
       " (Other)                                   :9139   (Other)            :9141  "
      ]
     },
     "metadata": {},
     "output_type": "display_data"
    }
   ],
   "source": [
    "summary(pre_processed_data)"
   ]
  },
  {
   "cell_type": "markdown",
   "metadata": {
    "slideshow": {
     "slide_type": "slide"
    }
   },
   "source": [
    "in order to "
   ]
  },
  {
   "cell_type": "code",
   "execution_count": 5,
   "metadata": {
    "slideshow": {
     "slide_type": "slide"
    }
   },
   "outputs": [
    {
     "data": {
      "text/plain": [
       "          mmr           result         server          timestamp   \n",
       " Challenger :5711   Defeat :5114   www    :1393   2019-06-18:1414  \n",
       " Grandmaster: 713   Victory:1310   euw    : 712   2019-06-19:1289  \n",
       "                                   br     : 633   2019-06-17: 912  \n",
       "                                   na     : 544   2019-06-16: 564  \n",
       "                                   eune   : 514   2019-06-15: 494  \n",
       "                                   las    : 507   2019-06-14: 311  \n",
       "                                   (Other):2121   (Other)   :1440  \n",
       "         top_1          jung_1         mid_1          adc_1     \n",
       " Aatrox     : 450   Lee Sin: 669   Ryze   : 325   Sivir  :1023  \n",
       " Irelia     : 390   Sejuani: 518   Yasuo  : 302   Ezreal : 994  \n",
       " Camille    : 377   Elise  : 372   Irelia : 274   Kai'Sa : 942  \n",
       " Mordekaiser: 360   Kayn   : 360   Zed    : 267   Xayah  : 572  \n",
       " Riven      : 302   Rek'Sai: 333   Ahri   : 243   Lucian : 458  \n",
       " Jax        : 299   Hecarim: 326   Sylas  : 234   Caitlyn: 410  \n",
       " (Other)    :4246   (Other):3846   (Other):4779   (Other):2025  \n",
       "      supp_1             top_2          jung_2         mid_2     \n",
       " Lux     : 910   Irelia     : 422   Lee Sin: 586   Ryze   : 324  \n",
       " Karma   : 620   Aatrox     : 408   Sejuani: 552   Yasuo  : 324  \n",
       " Yuumi   : 586   Camille    : 380   Elise  : 422   Irelia : 280  \n",
       " Thresh  : 482   Jax        : 326   Kayn   : 374   Zed    : 258  \n",
       " Nautilus: 438   Mordekaiser: 316   Rek'Sai: 347   Ahri   : 242  \n",
       " Pyke    : 421   Riven      : 314   Hecarim: 338   Talon  : 239  \n",
       " (Other) :2967   (Other)    :4258   (Other):3805   (Other):4757  \n",
       "     adc_2           supp_2    \n",
       " Sivir  :1032   Lux     : 876  \n",
       " Ezreal : 965   Yuumi   : 605  \n",
       " Kai'Sa : 883   Karma   : 597  \n",
       " Xayah  : 611   Thresh  : 489  \n",
       " Lucian : 463   Pyke    : 438  \n",
       " Caitlyn: 442   Nautilus: 423  \n",
       " (Other):2028   (Other) :2996  "
      ]
     },
     "metadata": {},
     "output_type": "display_data"
    }
   ],
   "source": [
    "games <- read.csv(\"parsed_games.csv\")\n",
    "summary(games)"
   ]
  }
 ],
 "metadata": {
  "celltoolbar": "Slideshow",
  "kernelspec": {
   "display_name": "R",
   "language": "R",
   "name": "ir"
  },
  "language_info": {
   "codemirror_mode": "r",
   "file_extension": ".r",
   "mimetype": "text/x-r-source",
   "name": "R",
   "pygments_lexer": "r",
   "version": "3.5.1"
  }
 },
 "nbformat": 4,
 "nbformat_minor": 2
}
